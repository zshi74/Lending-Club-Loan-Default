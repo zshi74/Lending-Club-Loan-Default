{
 "cells": [
  {
   "cell_type": "markdown",
   "metadata": {
    "toc": true
   },
   "source": [
    "<h1>Table of Contents<span class=\"tocSkip\"></span></h1>\n",
    "<div class=\"toc\"><ul class=\"toc-item\"><li><span><a href=\"#Introduction\" data-toc-modified-id=\"Introduction-1\"><span class=\"toc-item-num\">1&nbsp;&nbsp;</span>Introduction</a></span><ul class=\"toc-item\"><li><span><a href=\"#About-Lending-Club\" data-toc-modified-id=\"About-Lending-Club-1.1\"><span class=\"toc-item-num\">1.1&nbsp;&nbsp;</span>About Lending Club</a></span></li><li><span><a href=\"#Purpose-of-This-Analysis\" data-toc-modified-id=\"Purpose-of-This-Analysis-1.2\"><span class=\"toc-item-num\">1.2&nbsp;&nbsp;</span>Purpose of This Analysis</a></span></li></ul></li><li><span><a href=\"#Data-Preparation\" data-toc-modified-id=\"Data-Preparation-2\"><span class=\"toc-item-num\">2&nbsp;&nbsp;</span>Data Preparation</a></span><ul class=\"toc-item\"><li><span><a href=\"#Data-Overview\" data-toc-modified-id=\"Data-Overview-2.1\"><span class=\"toc-item-num\">2.1&nbsp;&nbsp;</span>Data Overview</a></span></li><li><span><a href=\"#Check-Missing-Values\" data-toc-modified-id=\"Check-Missing-Values-2.2\"><span class=\"toc-item-num\">2.2&nbsp;&nbsp;</span>Check Missing Values</a></span></li><li><span><a href=\"#Handle-Missing-Values\" data-toc-modified-id=\"Handle-Missing-Values-2.3\"><span class=\"toc-item-num\">2.3&nbsp;&nbsp;</span>Handle Missing Values</a></span></li></ul></li><li><span><a href=\"#Exploratory-Data-Analysis\" data-toc-modified-id=\"Exploratory-Data-Analysis-3\"><span class=\"toc-item-num\">3&nbsp;&nbsp;</span>Exploratory Data Analysis</a></span><ul class=\"toc-item\"><li><span><a href=\"#Response-Variable\" data-toc-modified-id=\"Response-Variable-3.1\"><span class=\"toc-item-num\">3.1&nbsp;&nbsp;</span>Response Variable</a></span></li><li><span><a href=\"#Dependent-Variables\" data-toc-modified-id=\"Dependent-Variables-3.2\"><span class=\"toc-item-num\">3.2&nbsp;&nbsp;</span>Dependent Variables</a></span><ul class=\"toc-item\"><li><span><a href=\"#Numeric-Variable\" data-toc-modified-id=\"Numeric-Variable-3.2.1\"><span class=\"toc-item-num\">3.2.1&nbsp;&nbsp;</span>Numeric Variable</a></span></li><li><span><a href=\"#Categorical-Variables\" data-toc-modified-id=\"Categorical-Variables-3.2.2\"><span class=\"toc-item-num\">3.2.2&nbsp;&nbsp;</span>Categorical Variables</a></span></li><li><span><a href=\"#Other-Types\" data-toc-modified-id=\"Other-Types-3.2.3\"><span class=\"toc-item-num\">3.2.3&nbsp;&nbsp;</span>Other Types</a></span></li></ul></li></ul></li><li><span><a href=\"#Feature-Selection\" data-toc-modified-id=\"Feature-Selection-4\"><span class=\"toc-item-num\">4&nbsp;&nbsp;</span>Feature Selection</a></span><ul class=\"toc-item\"><li><span><a href=\"#Correlation-Plot\" data-toc-modified-id=\"Correlation-Plot-4.1\"><span class=\"toc-item-num\">4.1&nbsp;&nbsp;</span>Correlation Plot</a></span></li><li><span><a href=\"#Chi-square-Test\" data-toc-modified-id=\"Chi-square-Test-4.2\"><span class=\"toc-item-num\">4.2&nbsp;&nbsp;</span>Chi-square Test</a></span></li></ul></li><li><span><a href=\"#Predictive-Modeling\" data-toc-modified-id=\"Predictive-Modeling-5\"><span class=\"toc-item-num\">5&nbsp;&nbsp;</span>Predictive Modeling</a></span><ul class=\"toc-item\"><li><span><a href=\"#One-hot-Encoding\" data-toc-modified-id=\"One-hot-Encoding-5.1\"><span class=\"toc-item-num\">5.1&nbsp;&nbsp;</span>One-hot Encoding</a></span></li><li><span><a href=\"#Data-Partition\" data-toc-modified-id=\"Data-Partition-5.2\"><span class=\"toc-item-num\">5.2&nbsp;&nbsp;</span>Data Partition</a></span></li><li><span><a href=\"#Class-Imbalanced\" data-toc-modified-id=\"Class-Imbalanced-5.3\"><span class=\"toc-item-num\">5.3&nbsp;&nbsp;</span>Class Imbalanced</a></span></li><li><span><a href=\"#Model-Construction\" data-toc-modified-id=\"Model-Construction-5.4\"><span class=\"toc-item-num\">5.4&nbsp;&nbsp;</span>Model Construction</a></span><ul class=\"toc-item\"><li><span><a href=\"#Logistic-Regression\" data-toc-modified-id=\"Logistic-Regression-5.4.1\"><span class=\"toc-item-num\">5.4.1&nbsp;&nbsp;</span>Logistic Regression</a></span></li><li><span><a href=\"#Naive-Bayes\" data-toc-modified-id=\"Naive-Bayes-5.4.2\"><span class=\"toc-item-num\">5.4.2&nbsp;&nbsp;</span>Naive Bayes</a></span></li><li><span><a href=\"#Decision-Tree\" data-toc-modified-id=\"Decision-Tree-5.4.3\"><span class=\"toc-item-num\">5.4.3&nbsp;&nbsp;</span>Decision Tree</a></span></li><li><span><a href=\"#Random-Forest\" data-toc-modified-id=\"Random-Forest-5.4.4\"><span class=\"toc-item-num\">5.4.4&nbsp;&nbsp;</span>Random Forest</a></span><ul class=\"toc-item\"><li><span><a href=\"#Hyperparameter-Tuning\" data-toc-modified-id=\"Hyperparameter-Tuning-5.4.4.1\"><span class=\"toc-item-num\">5.4.4.1&nbsp;&nbsp;</span>Hyperparameter Tuning</a></span></li><li><span><a href=\"#Feature-Importance\" data-toc-modified-id=\"Feature-Importance-5.4.4.2\"><span class=\"toc-item-num\">5.4.4.2&nbsp;&nbsp;</span>Feature Importance</a></span></li></ul></li></ul></li><li><span><a href=\"#Model-Comparison\" data-toc-modified-id=\"Model-Comparison-5.5\"><span class=\"toc-item-num\">5.5&nbsp;&nbsp;</span>Model Comparison</a></span></li></ul></li><li><span><a href=\"#Next-Steps\" data-toc-modified-id=\"Next-Steps-6\"><span class=\"toc-item-num\">6&nbsp;&nbsp;</span>Next Steps</a></span><ul class=\"toc-item\"><li><span><a href=\"#Cost-Matrix\" data-toc-modified-id=\"Cost-Matrix-6.1\"><span class=\"toc-item-num\">6.1&nbsp;&nbsp;</span>Cost Matrix</a></span></li><li><span><a href=\"#Other-Ways-to-Handle-Class-Imbalance\" data-toc-modified-id=\"Other-Ways-to-Handle-Class-Imbalance-6.2\"><span class=\"toc-item-num\">6.2&nbsp;&nbsp;</span>Other Ways to Handle Class Imbalance</a></span></li></ul></li></ul></div>"
   ]
  },
  {
   "cell_type": "code",
   "execution_count": 54,
   "metadata": {},
   "outputs": [],
   "source": [
    "import pandas as pd\n",
    "import numpy as np\n",
    "import matplotlib.pyplot as plt\n",
    "import seaborn as sns\n",
    "from scipy import stats # for chi-square test\n",
    "from sklearn.preprocessing import OneHotEncoder # for one-hot encoding\n",
    "from sklearn.model_selection import train_test_split\n",
    "from sklearn.linear_model import LogisticRegression\n",
    "from sklearn.naive_bayes import GaussianNB\n",
    "from sklearn.tree import DecisionTreeClassifier\n",
    "from sklearn.ensemble import RandomForestClassifier\n",
    "from sklearn.model_selection import GridSearchCV\n",
    "#from imblearn.over_sampling import SMOTE\n",
    "from sklearn.metrics import classification_report, roc_curve, auc, roc_auc_score, accuracy_score, confusion_matrix, f1_score\n",
    "import sklearn.metrics as metrics"
   ]
  },
  {
   "cell_type": "code",
   "execution_count": 2,
   "metadata": {},
   "outputs": [],
   "source": [
    "pd.set_option('display.max_columns', None)\n",
    "pd.set_option('display.max_rows',None)\n",
    "pd.set_option('display.float_format', lambda x: '%.5f' % x) # handle scentific notation\n",
    "import warnings\n",
    "warnings.filterwarnings('ignore')"
   ]
  },
  {
   "cell_type": "code",
   "execution_count": 3,
   "metadata": {},
   "outputs": [],
   "source": [
    "## read data\n",
    "loan = pd.read_csv(\"data.csv\")"
   ]
  },
  {
   "cell_type": "markdown",
   "metadata": {},
   "source": [
    "# Introduction"
   ]
  },
  {
   "cell_type": "markdown",
   "metadata": {},
   "source": [
    "## About Lending Club\n",
    "\n",
    "Lending club is a peer to peer lending company based in the United States, in which investors provide funds for potential borrowers and investors earn a profit depending on the risk they take (the borrowers credit score). Lending club provides the \"bridge\" between investors and borrowers. You can get more information about the company [here](https://www.lendingclub.com/). "
   ]
  },
  {
   "cell_type": "markdown",
   "metadata": {},
   "source": [
    "## Purpose of This Analysis\n",
    "\n",
    "This dataset contains information about lending club's loans that were issued between January 2015 and September 2016. \n",
    "\n",
    "In this analysis, I will investigate the variables that can be used to make business rules to reduce the default rate, and build predictive models to effectively predict a potential borrower's chance of default."
   ]
  },
  {
   "cell_type": "markdown",
   "metadata": {},
   "source": [
    "# Data Preparation"
   ]
  },
  {
   "cell_type": "markdown",
   "metadata": {},
   "source": [
    "## Data Overview"
   ]
  },
  {
   "cell_type": "code",
   "execution_count": 4,
   "metadata": {},
   "outputs": [
    {
     "name": "stdout",
     "output_type": "stream",
     "text": [
      "There are 80000 records and 26 features in our dataset.\n"
     ]
    }
   ],
   "source": [
    "print(\"There are\",loan.shape[0], \"records and\", loan.shape[1],\"features in our dataset.\")"
   ]
  },
  {
   "cell_type": "code",
   "execution_count": 5,
   "metadata": {},
   "outputs": [
    {
     "data": {
      "text/html": [
       "<div>\n",
       "<style scoped>\n",
       "    .dataframe tbody tr th:only-of-type {\n",
       "        vertical-align: middle;\n",
       "    }\n",
       "\n",
       "    .dataframe tbody tr th {\n",
       "        vertical-align: top;\n",
       "    }\n",
       "\n",
       "    .dataframe thead th {\n",
       "        text-align: right;\n",
       "    }\n",
       "</style>\n",
       "<table border=\"1\" class=\"dataframe\">\n",
       "  <thead>\n",
       "    <tr style=\"text-align: right;\">\n",
       "      <th></th>\n",
       "      <th>id</th>\n",
       "      <th>loan_amnt</th>\n",
       "      <th>term</th>\n",
       "      <th>installment</th>\n",
       "      <th>emp_length</th>\n",
       "      <th>home_ownership</th>\n",
       "      <th>annual_inc</th>\n",
       "      <th>verification_status</th>\n",
       "      <th>issue_d</th>\n",
       "      <th>loan_status</th>\n",
       "      <th>purpose</th>\n",
       "      <th>addr_state</th>\n",
       "      <th>dti</th>\n",
       "      <th>earliest_cr_line</th>\n",
       "      <th>fico_range_low</th>\n",
       "      <th>fico_range_high</th>\n",
       "      <th>last_credit_pull_d</th>\n",
       "      <th>last_fico_range_high</th>\n",
       "      <th>last_fico_range_low</th>\n",
       "      <th>acc_now_delinq</th>\n",
       "      <th>delinq_amnt</th>\n",
       "      <th>delinq_2yrs</th>\n",
       "      <th>mths_since_last_delinq</th>\n",
       "      <th>mths_since_last_record</th>\n",
       "      <th>inq_last_6mths</th>\n",
       "      <th>inq_last_12m</th>\n",
       "    </tr>\n",
       "  </thead>\n",
       "  <tbody>\n",
       "    <tr>\n",
       "      <td>0</td>\n",
       "      <td>88787390</td>\n",
       "      <td>30000</td>\n",
       "      <td>60 months</td>\n",
       "      <td>761.64000</td>\n",
       "      <td>6 years</td>\n",
       "      <td>RENT</td>\n",
       "      <td>100100.00000</td>\n",
       "      <td>Verified</td>\n",
       "      <td>Sep-2016</td>\n",
       "      <td>Current</td>\n",
       "      <td>debt_consolidation</td>\n",
       "      <td>SC</td>\n",
       "      <td>27.42000</td>\n",
       "      <td>Jan-1976</td>\n",
       "      <td>690</td>\n",
       "      <td>694</td>\n",
       "      <td>Dec-2016</td>\n",
       "      <td>709</td>\n",
       "      <td>705</td>\n",
       "      <td>0</td>\n",
       "      <td>0</td>\n",
       "      <td>0</td>\n",
       "      <td>26.00000</td>\n",
       "      <td>nan</td>\n",
       "      <td>0</td>\n",
       "      <td>0.00000</td>\n",
       "    </tr>\n",
       "    <tr>\n",
       "      <td>1</td>\n",
       "      <td>74722660</td>\n",
       "      <td>30000</td>\n",
       "      <td>60 months</td>\n",
       "      <td>692.93000</td>\n",
       "      <td>10+ years</td>\n",
       "      <td>MORTGAGE</td>\n",
       "      <td>235000.00000</td>\n",
       "      <td>Source Verified</td>\n",
       "      <td>Apr-2016</td>\n",
       "      <td>Current</td>\n",
       "      <td>home_improvement</td>\n",
       "      <td>PA</td>\n",
       "      <td>7.50000</td>\n",
       "      <td>Jan-1995</td>\n",
       "      <td>670</td>\n",
       "      <td>674</td>\n",
       "      <td>Dec-2016</td>\n",
       "      <td>649</td>\n",
       "      <td>645</td>\n",
       "      <td>0</td>\n",
       "      <td>0</td>\n",
       "      <td>1</td>\n",
       "      <td>16.00000</td>\n",
       "      <td>nan</td>\n",
       "      <td>1</td>\n",
       "      <td>3.00000</td>\n",
       "    </tr>\n",
       "    <tr>\n",
       "      <td>2</td>\n",
       "      <td>67919555</td>\n",
       "      <td>16000</td>\n",
       "      <td>60 months</td>\n",
       "      <td>379.39000</td>\n",
       "      <td>6 years</td>\n",
       "      <td>RENT</td>\n",
       "      <td>84000.00000</td>\n",
       "      <td>Not Verified</td>\n",
       "      <td>Jan-2016</td>\n",
       "      <td>Current</td>\n",
       "      <td>debt_consolidation</td>\n",
       "      <td>FL</td>\n",
       "      <td>27.87000</td>\n",
       "      <td>Aug-1998</td>\n",
       "      <td>735</td>\n",
       "      <td>739</td>\n",
       "      <td>Dec-2016</td>\n",
       "      <td>739</td>\n",
       "      <td>735</td>\n",
       "      <td>0</td>\n",
       "      <td>0</td>\n",
       "      <td>0</td>\n",
       "      <td>80.00000</td>\n",
       "      <td>nan</td>\n",
       "      <td>0</td>\n",
       "      <td>2.00000</td>\n",
       "    </tr>\n",
       "    <tr>\n",
       "      <td>3</td>\n",
       "      <td>54027458</td>\n",
       "      <td>14000</td>\n",
       "      <td>36 months</td>\n",
       "      <td>439.88000</td>\n",
       "      <td>5 years</td>\n",
       "      <td>RENT</td>\n",
       "      <td>50000.00000</td>\n",
       "      <td>Source Verified</td>\n",
       "      <td>Jul-2015</td>\n",
       "      <td>Fully Paid</td>\n",
       "      <td>debt_consolidation</td>\n",
       "      <td>WV</td>\n",
       "      <td>21.65000</td>\n",
       "      <td>Oct-1996</td>\n",
       "      <td>725</td>\n",
       "      <td>729</td>\n",
       "      <td>Oct-2016</td>\n",
       "      <td>749</td>\n",
       "      <td>745</td>\n",
       "      <td>0</td>\n",
       "      <td>0</td>\n",
       "      <td>0</td>\n",
       "      <td>nan</td>\n",
       "      <td>42.00000</td>\n",
       "      <td>0</td>\n",
       "      <td>nan</td>\n",
       "    </tr>\n",
       "    <tr>\n",
       "      <td>4</td>\n",
       "      <td>72594974</td>\n",
       "      <td>7500</td>\n",
       "      <td>36 months</td>\n",
       "      <td>252.67000</td>\n",
       "      <td>3 years</td>\n",
       "      <td>MORTGAGE</td>\n",
       "      <td>68000.00000</td>\n",
       "      <td>Not Verified</td>\n",
       "      <td>Feb-2016</td>\n",
       "      <td>Fully Paid</td>\n",
       "      <td>debt_consolidation</td>\n",
       "      <td>OH</td>\n",
       "      <td>29.09000</td>\n",
       "      <td>Nov-2000</td>\n",
       "      <td>660</td>\n",
       "      <td>664</td>\n",
       "      <td>Dec-2016</td>\n",
       "      <td>709</td>\n",
       "      <td>705</td>\n",
       "      <td>0</td>\n",
       "      <td>0</td>\n",
       "      <td>0</td>\n",
       "      <td>nan</td>\n",
       "      <td>nan</td>\n",
       "      <td>2</td>\n",
       "      <td>5.00000</td>\n",
       "    </tr>\n",
       "  </tbody>\n",
       "</table>\n",
       "</div>"
      ],
      "text/plain": [
       "         id  loan_amnt       term  installment emp_length home_ownership  \\\n",
       "0  88787390      30000  60 months    761.64000    6 years           RENT   \n",
       "1  74722660      30000  60 months    692.93000  10+ years       MORTGAGE   \n",
       "2  67919555      16000  60 months    379.39000    6 years           RENT   \n",
       "3  54027458      14000  36 months    439.88000    5 years           RENT   \n",
       "4  72594974       7500  36 months    252.67000    3 years       MORTGAGE   \n",
       "\n",
       "    annual_inc verification_status   issue_d loan_status             purpose  \\\n",
       "0 100100.00000            Verified  Sep-2016     Current  debt_consolidation   \n",
       "1 235000.00000     Source Verified  Apr-2016     Current    home_improvement   \n",
       "2  84000.00000        Not Verified  Jan-2016     Current  debt_consolidation   \n",
       "3  50000.00000     Source Verified  Jul-2015  Fully Paid  debt_consolidation   \n",
       "4  68000.00000        Not Verified  Feb-2016  Fully Paid  debt_consolidation   \n",
       "\n",
       "  addr_state      dti earliest_cr_line  fico_range_low  fico_range_high  \\\n",
       "0         SC 27.42000         Jan-1976             690              694   \n",
       "1         PA  7.50000         Jan-1995             670              674   \n",
       "2         FL 27.87000         Aug-1998             735              739   \n",
       "3         WV 21.65000         Oct-1996             725              729   \n",
       "4         OH 29.09000         Nov-2000             660              664   \n",
       "\n",
       "  last_credit_pull_d  last_fico_range_high  last_fico_range_low  \\\n",
       "0           Dec-2016                   709                  705   \n",
       "1           Dec-2016                   649                  645   \n",
       "2           Dec-2016                   739                  735   \n",
       "3           Oct-2016                   749                  745   \n",
       "4           Dec-2016                   709                  705   \n",
       "\n",
       "   acc_now_delinq  delinq_amnt  delinq_2yrs  mths_since_last_delinq  \\\n",
       "0               0            0            0                26.00000   \n",
       "1               0            0            1                16.00000   \n",
       "2               0            0            0                80.00000   \n",
       "3               0            0            0                     nan   \n",
       "4               0            0            0                     nan   \n",
       "\n",
       "   mths_since_last_record  inq_last_6mths  inq_last_12m  \n",
       "0                     nan               0       0.00000  \n",
       "1                     nan               1       3.00000  \n",
       "2                     nan               0       2.00000  \n",
       "3                42.00000               0           nan  \n",
       "4                     nan               2       5.00000  "
      ]
     },
     "execution_count": 5,
     "metadata": {},
     "output_type": "execute_result"
    }
   ],
   "source": [
    "## first five rows of loan data\n",
    "loan.head()"
   ]
  },
  {
   "cell_type": "markdown",
   "metadata": {},
   "source": [
    "## Check Missing Values"
   ]
  },
  {
   "cell_type": "markdown",
   "metadata": {},
   "source": [
    "Before doing analysis, I'll need to check how many missing values do I have in this dataset."
   ]
  },
  {
   "cell_type": "code",
   "execution_count": 6,
   "metadata": {},
   "outputs": [
    {
     "data": {
      "text/html": [
       "<div>\n",
       "<style scoped>\n",
       "    .dataframe tbody tr th:only-of-type {\n",
       "        vertical-align: middle;\n",
       "    }\n",
       "\n",
       "    .dataframe tbody tr th {\n",
       "        vertical-align: top;\n",
       "    }\n",
       "\n",
       "    .dataframe thead th {\n",
       "        text-align: right;\n",
       "    }\n",
       "</style>\n",
       "<table border=\"1\" class=\"dataframe\">\n",
       "  <thead>\n",
       "    <tr style=\"text-align: right;\">\n",
       "      <th></th>\n",
       "      <th>Count</th>\n",
       "      <th>Percent</th>\n",
       "    </tr>\n",
       "  </thead>\n",
       "  <tbody>\n",
       "    <tr>\n",
       "      <td>mths_since_last_record</td>\n",
       "      <td>65468</td>\n",
       "      <td>81.83000</td>\n",
       "    </tr>\n",
       "    <tr>\n",
       "      <td>inq_last_12m</td>\n",
       "      <td>42605</td>\n",
       "      <td>53.26000</td>\n",
       "    </tr>\n",
       "    <tr>\n",
       "      <td>mths_since_last_delinq</td>\n",
       "      <td>38214</td>\n",
       "      <td>47.77000</td>\n",
       "    </tr>\n",
       "    <tr>\n",
       "      <td>emp_length</td>\n",
       "      <td>4869</td>\n",
       "      <td>6.09000</td>\n",
       "    </tr>\n",
       "    <tr>\n",
       "      <td>last_credit_pull_d</td>\n",
       "      <td>4</td>\n",
       "      <td>0.00000</td>\n",
       "    </tr>\n",
       "  </tbody>\n",
       "</table>\n",
       "</div>"
      ],
      "text/plain": [
       "                        Count  Percent\n",
       "mths_since_last_record  65468 81.83000\n",
       "inq_last_12m            42605 53.26000\n",
       "mths_since_last_delinq  38214 47.77000\n",
       "emp_length               4869  6.09000\n",
       "last_credit_pull_d          4  0.00000"
      ]
     },
     "execution_count": 6,
     "metadata": {},
     "output_type": "execute_result"
    }
   ],
   "source": [
    "df_missing = pd.DataFrame({'Count': loan.isnull().sum(), 'Percent': round(100 * loan.isnull().sum()/len(loan),2)})\n",
    "df_missing[df_missing['Count'] != 0].sort_values(by = 'Percent', ascending = False)"
   ]
  },
  {
   "cell_type": "markdown",
   "metadata": {},
   "source": [
    "## Handle Missing Values"
   ]
  },
  {
   "cell_type": "markdown",
   "metadata": {},
   "source": [
    "The data is pretty clean, there are only 5 columns with missing values in this dataset. I'll drop the columns that contain more than 40% of missing values because having too many missing values in the columns will affect our analysis, and some machine learning algorithms cannot handle missing values very well."
   ]
  },
  {
   "cell_type": "code",
   "execution_count": 7,
   "metadata": {},
   "outputs": [
    {
     "name": "stdout",
     "output_type": "stream",
     "text": [
      "There are 3 columns needed to be dropped.\n"
     ]
    }
   ],
   "source": [
    "# check features with more than 40% missing\n",
    "drop_list = df_missing[df_missing['Percent'] > 40].index\n",
    "print(\"There are\", len(drop_list), \"columns needed to be dropped.\")"
   ]
  },
  {
   "cell_type": "code",
   "execution_count": 8,
   "metadata": {},
   "outputs": [],
   "source": [
    "# drop these features\n",
    "loan_2 = loan.drop(drop_list, axis = 1)"
   ]
  },
  {
   "cell_type": "code",
   "execution_count": 9,
   "metadata": {},
   "outputs": [
    {
     "data": {
      "text/html": [
       "<div>\n",
       "<style scoped>\n",
       "    .dataframe tbody tr th:only-of-type {\n",
       "        vertical-align: middle;\n",
       "    }\n",
       "\n",
       "    .dataframe tbody tr th {\n",
       "        vertical-align: top;\n",
       "    }\n",
       "\n",
       "    .dataframe thead th {\n",
       "        text-align: right;\n",
       "    }\n",
       "</style>\n",
       "<table border=\"1\" class=\"dataframe\">\n",
       "  <thead>\n",
       "    <tr style=\"text-align: right;\">\n",
       "      <th></th>\n",
       "      <th>Count</th>\n",
       "      <th>Percent</th>\n",
       "    </tr>\n",
       "  </thead>\n",
       "  <tbody>\n",
       "    <tr>\n",
       "      <td>emp_length</td>\n",
       "      <td>4869</td>\n",
       "      <td>6.09000</td>\n",
       "    </tr>\n",
       "    <tr>\n",
       "      <td>last_credit_pull_d</td>\n",
       "      <td>4</td>\n",
       "      <td>0.00000</td>\n",
       "    </tr>\n",
       "  </tbody>\n",
       "</table>\n",
       "</div>"
      ],
      "text/plain": [
       "                    Count  Percent\n",
       "emp_length           4869  6.09000\n",
       "last_credit_pull_d      4  0.00000"
      ]
     },
     "execution_count": 9,
     "metadata": {},
     "output_type": "execute_result"
    }
   ],
   "source": [
    "# check the remaining features\n",
    "df_missing_2 = pd.DataFrame({'Count': loan_2.isnull().sum(), 'Percent': round(100 * loan_2.isnull().sum()/len(loan_2),2)})\n",
    "df_missing_2[df_missing_2['Count'] != 0].sort_values(by = 'Percent', ascending = False)"
   ]
  },
  {
   "cell_type": "code",
   "execution_count": 10,
   "metadata": {},
   "outputs": [],
   "source": [
    "# drop all the rows which have missing values\n",
    "loan_3 = loan_2.dropna(axis = 0)"
   ]
  },
  {
   "cell_type": "code",
   "execution_count": 11,
   "metadata": {},
   "outputs": [],
   "source": [
    "# change employment length to numeric values\n",
    "emp_length_dict = {\"10+ years\": 10, \"2 years\": 2, \"< 1 year\": 0.5, \"3 years\": 3, \"1 year\": 1, \"5 years\": 5,\n",
    "                   \"4 years\": 4, \"6 years\": 6, \"7 years\": 7, \"8 years\": 8, \"9 years\": 9}\n",
    "\n",
    "loan_3['emp_length'] = loan_3['emp_length'].map(emp_length_dict)"
   ]
  },
  {
   "cell_type": "code",
   "execution_count": 12,
   "metadata": {},
   "outputs": [
    {
     "data": {
      "text/html": [
       "<div>\n",
       "<style scoped>\n",
       "    .dataframe tbody tr th:only-of-type {\n",
       "        vertical-align: middle;\n",
       "    }\n",
       "\n",
       "    .dataframe tbody tr th {\n",
       "        vertical-align: top;\n",
       "    }\n",
       "\n",
       "    .dataframe thead th {\n",
       "        text-align: right;\n",
       "    }\n",
       "</style>\n",
       "<table border=\"1\" class=\"dataframe\">\n",
       "  <thead>\n",
       "    <tr style=\"text-align: right;\">\n",
       "      <th></th>\n",
       "      <th>id</th>\n",
       "      <th>loan_amnt</th>\n",
       "      <th>term</th>\n",
       "      <th>installment</th>\n",
       "      <th>emp_length</th>\n",
       "      <th>home_ownership</th>\n",
       "      <th>annual_inc</th>\n",
       "      <th>verification_status</th>\n",
       "      <th>issue_d</th>\n",
       "      <th>loan_status</th>\n",
       "      <th>purpose</th>\n",
       "      <th>addr_state</th>\n",
       "      <th>dti</th>\n",
       "      <th>earliest_cr_line</th>\n",
       "      <th>fico_range_low</th>\n",
       "      <th>fico_range_high</th>\n",
       "      <th>last_credit_pull_d</th>\n",
       "      <th>last_fico_range_high</th>\n",
       "      <th>last_fico_range_low</th>\n",
       "      <th>acc_now_delinq</th>\n",
       "      <th>delinq_amnt</th>\n",
       "      <th>delinq_2yrs</th>\n",
       "      <th>inq_last_6mths</th>\n",
       "    </tr>\n",
       "  </thead>\n",
       "  <tbody>\n",
       "    <tr>\n",
       "      <td>0</td>\n",
       "      <td>88787390</td>\n",
       "      <td>30000</td>\n",
       "      <td>60 months</td>\n",
       "      <td>761.64000</td>\n",
       "      <td>6.00000</td>\n",
       "      <td>RENT</td>\n",
       "      <td>100100.00000</td>\n",
       "      <td>Verified</td>\n",
       "      <td>Sep-2016</td>\n",
       "      <td>Current</td>\n",
       "      <td>debt_consolidation</td>\n",
       "      <td>SC</td>\n",
       "      <td>27.42000</td>\n",
       "      <td>Jan-1976</td>\n",
       "      <td>690</td>\n",
       "      <td>694</td>\n",
       "      <td>Dec-2016</td>\n",
       "      <td>709</td>\n",
       "      <td>705</td>\n",
       "      <td>0</td>\n",
       "      <td>0</td>\n",
       "      <td>0</td>\n",
       "      <td>0</td>\n",
       "    </tr>\n",
       "    <tr>\n",
       "      <td>1</td>\n",
       "      <td>74722660</td>\n",
       "      <td>30000</td>\n",
       "      <td>60 months</td>\n",
       "      <td>692.93000</td>\n",
       "      <td>10.00000</td>\n",
       "      <td>MORTGAGE</td>\n",
       "      <td>235000.00000</td>\n",
       "      <td>Source Verified</td>\n",
       "      <td>Apr-2016</td>\n",
       "      <td>Current</td>\n",
       "      <td>home_improvement</td>\n",
       "      <td>PA</td>\n",
       "      <td>7.50000</td>\n",
       "      <td>Jan-1995</td>\n",
       "      <td>670</td>\n",
       "      <td>674</td>\n",
       "      <td>Dec-2016</td>\n",
       "      <td>649</td>\n",
       "      <td>645</td>\n",
       "      <td>0</td>\n",
       "      <td>0</td>\n",
       "      <td>1</td>\n",
       "      <td>1</td>\n",
       "    </tr>\n",
       "    <tr>\n",
       "      <td>2</td>\n",
       "      <td>67919555</td>\n",
       "      <td>16000</td>\n",
       "      <td>60 months</td>\n",
       "      <td>379.39000</td>\n",
       "      <td>6.00000</td>\n",
       "      <td>RENT</td>\n",
       "      <td>84000.00000</td>\n",
       "      <td>Not Verified</td>\n",
       "      <td>Jan-2016</td>\n",
       "      <td>Current</td>\n",
       "      <td>debt_consolidation</td>\n",
       "      <td>FL</td>\n",
       "      <td>27.87000</td>\n",
       "      <td>Aug-1998</td>\n",
       "      <td>735</td>\n",
       "      <td>739</td>\n",
       "      <td>Dec-2016</td>\n",
       "      <td>739</td>\n",
       "      <td>735</td>\n",
       "      <td>0</td>\n",
       "      <td>0</td>\n",
       "      <td>0</td>\n",
       "      <td>0</td>\n",
       "    </tr>\n",
       "    <tr>\n",
       "      <td>3</td>\n",
       "      <td>54027458</td>\n",
       "      <td>14000</td>\n",
       "      <td>36 months</td>\n",
       "      <td>439.88000</td>\n",
       "      <td>5.00000</td>\n",
       "      <td>RENT</td>\n",
       "      <td>50000.00000</td>\n",
       "      <td>Source Verified</td>\n",
       "      <td>Jul-2015</td>\n",
       "      <td>Fully Paid</td>\n",
       "      <td>debt_consolidation</td>\n",
       "      <td>WV</td>\n",
       "      <td>21.65000</td>\n",
       "      <td>Oct-1996</td>\n",
       "      <td>725</td>\n",
       "      <td>729</td>\n",
       "      <td>Oct-2016</td>\n",
       "      <td>749</td>\n",
       "      <td>745</td>\n",
       "      <td>0</td>\n",
       "      <td>0</td>\n",
       "      <td>0</td>\n",
       "      <td>0</td>\n",
       "    </tr>\n",
       "    <tr>\n",
       "      <td>4</td>\n",
       "      <td>72594974</td>\n",
       "      <td>7500</td>\n",
       "      <td>36 months</td>\n",
       "      <td>252.67000</td>\n",
       "      <td>3.00000</td>\n",
       "      <td>MORTGAGE</td>\n",
       "      <td>68000.00000</td>\n",
       "      <td>Not Verified</td>\n",
       "      <td>Feb-2016</td>\n",
       "      <td>Fully Paid</td>\n",
       "      <td>debt_consolidation</td>\n",
       "      <td>OH</td>\n",
       "      <td>29.09000</td>\n",
       "      <td>Nov-2000</td>\n",
       "      <td>660</td>\n",
       "      <td>664</td>\n",
       "      <td>Dec-2016</td>\n",
       "      <td>709</td>\n",
       "      <td>705</td>\n",
       "      <td>0</td>\n",
       "      <td>0</td>\n",
       "      <td>0</td>\n",
       "      <td>2</td>\n",
       "    </tr>\n",
       "  </tbody>\n",
       "</table>\n",
       "</div>"
      ],
      "text/plain": [
       "         id  loan_amnt       term  installment  emp_length home_ownership  \\\n",
       "0  88787390      30000  60 months    761.64000     6.00000           RENT   \n",
       "1  74722660      30000  60 months    692.93000    10.00000       MORTGAGE   \n",
       "2  67919555      16000  60 months    379.39000     6.00000           RENT   \n",
       "3  54027458      14000  36 months    439.88000     5.00000           RENT   \n",
       "4  72594974       7500  36 months    252.67000     3.00000       MORTGAGE   \n",
       "\n",
       "    annual_inc verification_status   issue_d loan_status             purpose  \\\n",
       "0 100100.00000            Verified  Sep-2016     Current  debt_consolidation   \n",
       "1 235000.00000     Source Verified  Apr-2016     Current    home_improvement   \n",
       "2  84000.00000        Not Verified  Jan-2016     Current  debt_consolidation   \n",
       "3  50000.00000     Source Verified  Jul-2015  Fully Paid  debt_consolidation   \n",
       "4  68000.00000        Not Verified  Feb-2016  Fully Paid  debt_consolidation   \n",
       "\n",
       "  addr_state      dti earliest_cr_line  fico_range_low  fico_range_high  \\\n",
       "0         SC 27.42000         Jan-1976             690              694   \n",
       "1         PA  7.50000         Jan-1995             670              674   \n",
       "2         FL 27.87000         Aug-1998             735              739   \n",
       "3         WV 21.65000         Oct-1996             725              729   \n",
       "4         OH 29.09000         Nov-2000             660              664   \n",
       "\n",
       "  last_credit_pull_d  last_fico_range_high  last_fico_range_low  \\\n",
       "0           Dec-2016                   709                  705   \n",
       "1           Dec-2016                   649                  645   \n",
       "2           Dec-2016                   739                  735   \n",
       "3           Oct-2016                   749                  745   \n",
       "4           Dec-2016                   709                  705   \n",
       "\n",
       "   acc_now_delinq  delinq_amnt  delinq_2yrs  inq_last_6mths  \n",
       "0               0            0            0               0  \n",
       "1               0            0            1               1  \n",
       "2               0            0            0               0  \n",
       "3               0            0            0               0  \n",
       "4               0            0            0               2  "
      ]
     },
     "execution_count": 12,
     "metadata": {},
     "output_type": "execute_result"
    }
   ],
   "source": [
    "loan_3.head()"
   ]
  },
  {
   "cell_type": "markdown",
   "metadata": {},
   "source": [
    "# Exploratory Data Analysis"
   ]
  },
  {
   "cell_type": "markdown",
   "metadata": {},
   "source": [
    "Let's investigate some of the important features further based on my domain knowledge of loan business."
   ]
  },
  {
   "cell_type": "markdown",
   "metadata": {},
   "source": [
    "## Response Variable"
   ]
  },
  {
   "cell_type": "markdown",
   "metadata": {},
   "source": [
    "One of the goals of this analysis is to predict a potential borrower's chance of default. The variable `loan_status` contains three levels: \n",
    "* *Current*: The borrower has paid off all due payment as of the latest due date.\n",
    "\n",
    "* *Fully Paid*: The borrower has paid off the entire balance of the loan\n",
    "\n",
    "* *Default*: The borrower has missed the last payment"
   ]
  },
  {
   "cell_type": "code",
   "execution_count": 13,
   "metadata": {},
   "outputs": [
    {
     "data": {
      "text/plain": [
       "<matplotlib.axes._subplots.AxesSubplot at 0x117fb9550>"
      ]
     },
     "execution_count": 13,
     "metadata": {},
     "output_type": "execute_result"
    },
    {
     "data": {
      "image/png": "[encoded data removed]",
      "text/plain": [
       "<Figure size 432x288 with 1 Axes>"
      ]
     },
     "metadata": {
      "needs_background": "light"
     },
     "output_type": "display_data"
    }
   ],
   "source": [
    "sns.countplot(x = 'loan_status', data = loan_3)"
   ]
  },
  {
   "cell_type": "markdown",
   "metadata": {},
   "source": [
    "As we can see, a majority of borrowers have paid off all due payment as of the latest due date, followed by fully paid and default. \n",
    "\n",
    "The problem of interest here is to predict borrowers with high possibilities to default, so for the sake of this analysis, I will combine *current* and *fully paid* customers together as a new value: Non-default."
   ]
  },
  {
   "cell_type": "code",
   "execution_count": 14,
   "metadata": {},
   "outputs": [],
   "source": [
    "# constructed a new binary variable\n",
    "loan_status_dict = {'Current':0, \"Fully Paid\":0, \"Default\":1}\n",
    "loan_3['Default'] = loan_3['loan_status'].map(loan_status_dict)\n",
    "\n",
    "# drop the loan_status column\n",
    "loan_3 = loan_3.drop('loan_status', axis = 1)\n",
    "\n",
    "# convert data type\n",
    "loan_3['Default'] = loan_3['Default'].astype('category')"
   ]
  },
  {
   "cell_type": "code",
   "execution_count": 15,
   "metadata": {},
   "outputs": [
    {
     "data": {
      "text/plain": [
       "<matplotlib.axes._subplots.AxesSubplot at 0x1180eead0>"
      ]
     },
     "execution_count": 15,
     "metadata": {},
     "output_type": "execute_result"
    },
    {
     "data": {
      "image/png": "[encoded data removed]",
      "text/plain": [
       "<Figure size 432x288 with 1 Axes>"
      ]
     },
     "metadata": {
      "needs_background": "light"
     },
     "output_type": "display_data"
    }
   ],
   "source": [
    "sns.countplot(x = 'Default', data = loan_3)"
   ]
  },
  {
   "cell_type": "markdown",
   "metadata": {},
   "source": [
    "The response variable is quite imbalanced, this will be some problems when I need to predict the default."
   ]
  },
  {
   "cell_type": "markdown",
   "metadata": {},
   "source": [
    "## Dependent Variables"
   ]
  },
  {
   "cell_type": "markdown",
   "metadata": {},
   "source": [
    "### Numeric Variable"
   ]
  },
  {
   "cell_type": "markdown",
   "metadata": {},
   "source": [
    "Overall distribution of numeric variables:"
   ]
  },
  {
   "cell_type": "code",
   "execution_count": 16,
   "metadata": {},
   "outputs": [
    {
     "data": {
      "image/png": "[encoded data removed]",
      "text/plain": [
       "<Figure size 1080x864 with 16 Axes>"
      ]
     },
     "metadata": {
      "needs_background": "light"
     },
     "output_type": "display_data"
    }
   ],
   "source": [
    "loan_3.drop('id',axis = 1).hist(figsize = (15,12), bins = 15)\n",
    "plt.show()"
   ]
  },
  {
   "cell_type": "code",
   "execution_count": 17,
   "metadata": {},
   "outputs": [],
   "source": [
    "## Function to plot the distribution \n",
    "def plot_continuous(df, variable, hue_choice, palette_choice=None):\n",
    "    g = sns.FacetGrid(df, hue=hue_choice, sharex=True, sharey=True, palette=palette_choice, height=6, aspect=2)\n",
    "    g = g.map(plt.hist, variable, bins=40, alpha=0.7).add_legend()\n",
    "    return g"
   ]
  },
  {
   "cell_type": "markdown",
   "metadata": {},
   "source": [
    "**Loan Amount**"
   ]
  },
  {
   "cell_type": "code",
   "execution_count": 18,
   "metadata": {},
   "outputs": [
    {
     "data": {
      "text/plain": [
       "<seaborn.axisgrid.FacetGrid at 0x11c345650>"
      ]
     },
     "execution_count": 18,
     "metadata": {},
     "output_type": "execute_result"
    },
    {
     "data": {
      "image/png": "[encoded data removed]",
      "text/plain": [
       "<Figure size 908.75x432 with 1 Axes>"
      ]
     },
     "metadata": {
      "needs_background": "light"
     },
     "output_type": "display_data"
    }
   ],
   "source": [
    "## distribution and box plot for loan amount\n",
    "#plt.figure(figsize = (12,5))\n",
    "plot_continuous(loan_3, 'loan_amnt', 'Default', 'RdBu')"
   ]
  },
  {
   "cell_type": "code",
   "execution_count": 19,
   "metadata": {},
   "outputs": [
    {
     "data": {
      "text/plain": [
       "<matplotlib.axes._subplots.AxesSubplot at 0x12b69ae90>"
      ]
     },
     "execution_count": 19,
     "metadata": {},
     "output_type": "execute_result"
    },
    {
     "data": {
      "image/png": "[encoded data removed]",
      "text/plain": [
       "<Figure size 432x288 with 1 Axes>"
      ]
     },
     "metadata": {
      "needs_background": "light"
     },
     "output_type": "display_data"
    }
   ],
   "source": [
    "#plt.figure(figsize = (8,8))\n",
    "sns.boxplot(x = loan_3.Default, y = loan_3.loan_amnt)"
   ]
  },
  {
   "cell_type": "markdown",
   "metadata": {},
   "source": [
    "The distributions of both groups don't have a particular pattern. Borrowers who defaulted have a higher median loan amount than the non-default group."
   ]
  },
  {
   "cell_type": "markdown",
   "metadata": {},
   "source": [
    "**emp_length**"
   ]
  },
  {
   "cell_type": "code",
   "execution_count": 20,
   "metadata": {},
   "outputs": [
    {
     "data": {
      "text/plain": [
       "<seaborn.axisgrid.FacetGrid at 0x1246bafd0>"
      ]
     },
     "execution_count": 20,
     "metadata": {},
     "output_type": "execute_result"
    },
    {
     "data": {
      "text/plain": [
       "<Figure size 720x576 with 0 Axes>"
      ]
     },
     "metadata": {},
     "output_type": "display_data"
    },
    {
     "data": {
      "image/png": "[encoded data removed]",
      "text/plain": [
       "<Figure size 909.725x432 with 1 Axes>"
      ]
     },
     "metadata": {},
     "output_type": "display_data"
    }
   ],
   "source": [
    "plt.figure(figsize = (10,8))\n",
    "sns.set(style = 'whitegrid')\n",
    "plot_continuous(loan_3, 'emp_length', 'Default', 'RdBu')"
   ]
  },
  {
   "cell_type": "code",
   "execution_count": 21,
   "metadata": {},
   "outputs": [
    {
     "data": {
      "text/plain": [
       "<matplotlib.axes._subplots.AxesSubplot at 0x125176ed0>"
      ]
     },
     "execution_count": 21,
     "metadata": {},
     "output_type": "execute_result"
    },
    {
     "data": {
      "image/png": "[encoded data removed]",
      "text/plain": [
       "<Figure size 432x288 with 1 Axes>"
      ]
     },
     "metadata": {},
     "output_type": "display_data"
    }
   ],
   "source": [
    "sns.boxplot(x = loan_3.Default, y = loan_3.emp_length)"
   ]
  },
  {
   "cell_type": "code",
   "execution_count": null,
   "metadata": {},
   "outputs": [],
   "source": [
    "We can see most of our loan users have 10 years employment history."
   ]
  },
  {
   "cell_type": "markdown",
   "metadata": {},
   "source": [
    "### Categorical Variables"
   ]
  },
  {
   "cell_type": "markdown",
   "metadata": {},
   "source": [
    "**term**"
   ]
  },
  {
   "cell_type": "code",
   "execution_count": 22,
   "metadata": {},
   "outputs": [
    {
     "data": {
      "text/plain": [
       "<matplotlib.axes._subplots.AxesSubplot at 0x12607d490>"
      ]
     },
     "execution_count": 22,
     "metadata": {},
     "output_type": "execute_result"
    },
    {
     "data": {
      "image/png": "[encoded data removed]",
      "text/plain": [
       "<Figure size 432x288 with 1 Axes>"
      ]
     },
     "metadata": {},
     "output_type": "display_data"
    }
   ],
   "source": [
    "#plt.figure(figsize = (10,8))\n",
    "sns.set(style = 'whitegrid')\n",
    "sns.countplot(loan_3.term, hue = loan_3.Default)"
   ]
  },
  {
   "cell_type": "markdown",
   "metadata": {},
   "source": [
    "Proportionally speaking, the volume of borrowers who have 60-month loan default is much higher than the volume of 36-month loan term borrowers."
   ]
  },
  {
   "cell_type": "markdown",
   "metadata": {},
   "source": [
    "The percent of default for people with more than 10+ employment histroy is pretty low. "
   ]
  },
  {
   "cell_type": "markdown",
   "metadata": {},
   "source": [
    "**home_ownership**"
   ]
  },
  {
   "cell_type": "code",
   "execution_count": 23,
   "metadata": {},
   "outputs": [
    {
     "data": {
      "text/plain": [
       "<matplotlib.axes._subplots.AxesSubplot at 0x119852bd0>"
      ]
     },
     "execution_count": 23,
     "metadata": {},
     "output_type": "execute_result"
    },
    {
     "data": {
      "image/png": "[encoded data removed]",
      "text/plain": [
       "<Figure size 720x576 with 1 Axes>"
      ]
     },
     "metadata": {},
     "output_type": "display_data"
    }
   ],
   "source": [
    "plt.figure(figsize = (10,8))\n",
    "sns.set(style = 'whitegrid')\n",
    "sns.countplot(loan_3.home_ownership, hue = loan_3.Default)"
   ]
  },
  {
   "cell_type": "markdown",
   "metadata": {},
   "source": [
    "Here we can see people who have already owned their house are less likely to default.\n",
    "\n",
    "The borrower who rent house are more likely to default compared to the mortgage group."
   ]
  },
  {
   "cell_type": "markdown",
   "metadata": {},
   "source": [
    "### Other Types"
   ]
  },
  {
   "cell_type": "markdown",
   "metadata": {},
   "source": [
    "**issue_d**\n",
    "\n",
    "I'm curious about the number of default and non-default per year."
   ]
  },
  {
   "cell_type": "code",
   "execution_count": 24,
   "metadata": {},
   "outputs": [],
   "source": [
    "loan_3_year = loan_3[['issue_d','Default']]\n",
    "loan_3_year['issue_d'] = pd.to_datetime(loan_3_year['issue_d'])\n",
    "loan_3_year['year'] = loan_3_year['issue_d'].dt.year"
   ]
  },
  {
   "cell_type": "code",
   "execution_count": 25,
   "metadata": {},
   "outputs": [
    {
     "data": {
      "text/plain": [
       "<matplotlib.axes._subplots.AxesSubplot at 0x1049bc2d0>"
      ]
     },
     "execution_count": 25,
     "metadata": {},
     "output_type": "execute_result"
    },
    {
     "data": {
      "image/png": "[encoded data removed]",
      "text/plain": [
       "<Figure size 720x576 with 1 Axes>"
      ]
     },
     "metadata": {},
     "output_type": "display_data"
    }
   ],
   "source": [
    "plt.figure(figsize = (10,8))\n",
    "sns.set(style = 'whitegrid')\n",
    "sns.countplot(loan_3_year.year, hue = loan_3.Default)"
   ]
  },
  {
   "cell_type": "markdown",
   "metadata": {},
   "source": [
    "We can see the percent of default in 2015 is higher than 2016."
   ]
  },
  {
   "cell_type": "markdown",
   "metadata": {},
   "source": [
    "# Feature Selection"
   ]
  },
  {
   "cell_type": "markdown",
   "metadata": {},
   "source": [
    "Given the fact that we don't have a crazy number of variables here, I will use some simple but power feature selection teniques - **correlation** and **chi-square test**."
   ]
  },
  {
   "cell_type": "code",
   "execution_count": 26,
   "metadata": {},
   "outputs": [],
   "source": [
    "## drop id and date columns\n",
    "loan_4 = loan_3.drop(['id', 'issue_d','earliest_cr_line','last_credit_pull_d'], axis = 1)"
   ]
  },
  {
   "cell_type": "code",
   "execution_count": 27,
   "metadata": {},
   "outputs": [],
   "source": [
    "loan_4 = loan_4.drop('addr_state', axis = 1)"
   ]
  },
  {
   "cell_type": "code",
   "execution_count": 28,
   "metadata": {},
   "outputs": [
    {
     "data": {
      "text/html": [
       "<div>\n",
       "<style scoped>\n",
       "    .dataframe tbody tr th:only-of-type {\n",
       "        vertical-align: middle;\n",
       "    }\n",
       "\n",
       "    .dataframe tbody tr th {\n",
       "        vertical-align: top;\n",
       "    }\n",
       "\n",
       "    .dataframe thead th {\n",
       "        text-align: right;\n",
       "    }\n",
       "</style>\n",
       "<table border=\"1\" class=\"dataframe\">\n",
       "  <thead>\n",
       "    <tr style=\"text-align: right;\">\n",
       "      <th></th>\n",
       "      <th>loan_amnt</th>\n",
       "      <th>term</th>\n",
       "      <th>installment</th>\n",
       "      <th>emp_length</th>\n",
       "      <th>home_ownership</th>\n",
       "      <th>annual_inc</th>\n",
       "      <th>verification_status</th>\n",
       "      <th>purpose</th>\n",
       "      <th>dti</th>\n",
       "      <th>fico_range_low</th>\n",
       "      <th>fico_range_high</th>\n",
       "      <th>last_fico_range_high</th>\n",
       "      <th>last_fico_range_low</th>\n",
       "      <th>acc_now_delinq</th>\n",
       "      <th>delinq_amnt</th>\n",
       "      <th>delinq_2yrs</th>\n",
       "      <th>inq_last_6mths</th>\n",
       "      <th>Default</th>\n",
       "    </tr>\n",
       "  </thead>\n",
       "  <tbody>\n",
       "    <tr>\n",
       "      <td>0</td>\n",
       "      <td>30000</td>\n",
       "      <td>60 months</td>\n",
       "      <td>761.64000</td>\n",
       "      <td>6.00000</td>\n",
       "      <td>RENT</td>\n",
       "      <td>100100.00000</td>\n",
       "      <td>Verified</td>\n",
       "      <td>debt_consolidation</td>\n",
       "      <td>27.42000</td>\n",
       "      <td>690</td>\n",
       "      <td>694</td>\n",
       "      <td>709</td>\n",
       "      <td>705</td>\n",
       "      <td>0</td>\n",
       "      <td>0</td>\n",
       "      <td>0</td>\n",
       "      <td>0</td>\n",
       "      <td>0</td>\n",
       "    </tr>\n",
       "    <tr>\n",
       "      <td>1</td>\n",
       "      <td>30000</td>\n",
       "      <td>60 months</td>\n",
       "      <td>692.93000</td>\n",
       "      <td>10.00000</td>\n",
       "      <td>MORTGAGE</td>\n",
       "      <td>235000.00000</td>\n",
       "      <td>Source Verified</td>\n",
       "      <td>home_improvement</td>\n",
       "      <td>7.50000</td>\n",
       "      <td>670</td>\n",
       "      <td>674</td>\n",
       "      <td>649</td>\n",
       "      <td>645</td>\n",
       "      <td>0</td>\n",
       "      <td>0</td>\n",
       "      <td>1</td>\n",
       "      <td>1</td>\n",
       "      <td>0</td>\n",
       "    </tr>\n",
       "    <tr>\n",
       "      <td>2</td>\n",
       "      <td>16000</td>\n",
       "      <td>60 months</td>\n",
       "      <td>379.39000</td>\n",
       "      <td>6.00000</td>\n",
       "      <td>RENT</td>\n",
       "      <td>84000.00000</td>\n",
       "      <td>Not Verified</td>\n",
       "      <td>debt_consolidation</td>\n",
       "      <td>27.87000</td>\n",
       "      <td>735</td>\n",
       "      <td>739</td>\n",
       "      <td>739</td>\n",
       "      <td>735</td>\n",
       "      <td>0</td>\n",
       "      <td>0</td>\n",
       "      <td>0</td>\n",
       "      <td>0</td>\n",
       "      <td>0</td>\n",
       "    </tr>\n",
       "    <tr>\n",
       "      <td>3</td>\n",
       "      <td>14000</td>\n",
       "      <td>36 months</td>\n",
       "      <td>439.88000</td>\n",
       "      <td>5.00000</td>\n",
       "      <td>RENT</td>\n",
       "      <td>50000.00000</td>\n",
       "      <td>Source Verified</td>\n",
       "      <td>debt_consolidation</td>\n",
       "      <td>21.65000</td>\n",
       "      <td>725</td>\n",
       "      <td>729</td>\n",
       "      <td>749</td>\n",
       "      <td>745</td>\n",
       "      <td>0</td>\n",
       "      <td>0</td>\n",
       "      <td>0</td>\n",
       "      <td>0</td>\n",
       "      <td>0</td>\n",
       "    </tr>\n",
       "    <tr>\n",
       "      <td>4</td>\n",
       "      <td>7500</td>\n",
       "      <td>36 months</td>\n",
       "      <td>252.67000</td>\n",
       "      <td>3.00000</td>\n",
       "      <td>MORTGAGE</td>\n",
       "      <td>68000.00000</td>\n",
       "      <td>Not Verified</td>\n",
       "      <td>debt_consolidation</td>\n",
       "      <td>29.09000</td>\n",
       "      <td>660</td>\n",
       "      <td>664</td>\n",
       "      <td>709</td>\n",
       "      <td>705</td>\n",
       "      <td>0</td>\n",
       "      <td>0</td>\n",
       "      <td>0</td>\n",
       "      <td>2</td>\n",
       "      <td>0</td>\n",
       "    </tr>\n",
       "  </tbody>\n",
       "</table>\n",
       "</div>"
      ],
      "text/plain": [
       "   loan_amnt       term  installment  emp_length home_ownership   annual_inc  \\\n",
       "0      30000  60 months    761.64000     6.00000           RENT 100100.00000   \n",
       "1      30000  60 months    692.93000    10.00000       MORTGAGE 235000.00000   \n",
       "2      16000  60 months    379.39000     6.00000           RENT  84000.00000   \n",
       "3      14000  36 months    439.88000     5.00000           RENT  50000.00000   \n",
       "4       7500  36 months    252.67000     3.00000       MORTGAGE  68000.00000   \n",
       "\n",
       "  verification_status             purpose      dti  fico_range_low  \\\n",
       "0            Verified  debt_consolidation 27.42000             690   \n",
       "1     Source Verified    home_improvement  7.50000             670   \n",
       "2        Not Verified  debt_consolidation 27.87000             735   \n",
       "3     Source Verified  debt_consolidation 21.65000             725   \n",
       "4        Not Verified  debt_consolidation 29.09000             660   \n",
       "\n",
       "   fico_range_high  last_fico_range_high  last_fico_range_low  acc_now_delinq  \\\n",
       "0              694                   709                  705               0   \n",
       "1              674                   649                  645               0   \n",
       "2              739                   739                  735               0   \n",
       "3              729                   749                  745               0   \n",
       "4              664                   709                  705               0   \n",
       "\n",
       "   delinq_amnt  delinq_2yrs  inq_last_6mths Default  \n",
       "0            0            0               0       0  \n",
       "1            0            1               1       0  \n",
       "2            0            0               0       0  \n",
       "3            0            0               0       0  \n",
       "4            0            0               2       0  "
      ]
     },
     "execution_count": 28,
     "metadata": {},
     "output_type": "execute_result"
    }
   ],
   "source": [
    "loan_4.head()"
   ]
  },
  {
   "cell_type": "markdown",
   "metadata": {},
   "source": [
    "## Correlation Plot"
   ]
  },
  {
   "cell_type": "code",
   "execution_count": 29,
   "metadata": {},
   "outputs": [
    {
     "data": {
      "image/png": "[encoded data removed]",
      "text/plain": [
       "<Figure size 648x648 with 2 Axes>"
      ]
     },
     "metadata": {},
     "output_type": "display_data"
    }
   ],
   "source": [
    "plt.figure(figsize = (9,9))\n",
    "p = sns.heatmap(loan_4.corr(), annot = True, cmap = \"YlGnBu\")"
   ]
  },
  {
   "cell_type": "markdown",
   "metadata": {},
   "source": [
    "* `installment` has very high correlation with `loan_amnt`. \n",
    "\n",
    "* `last_fico_range_low` is highly correlated with `last_fico_range_high`\n",
    "\n",
    "* `fico_range_low` is highly correlated with `fico_range_high`\n",
    "\n",
    "I will drop `installment`, `last_fico_range_low`, `last_fico_range_high` and `fico_range_low`. Then we don't have any multicollinearity problem here."
   ]
  },
  {
   "cell_type": "code",
   "execution_count": 30,
   "metadata": {},
   "outputs": [],
   "source": [
    "# drop installment\n",
    "loan_5 = loan_4.drop(['installment','last_fico_range_low','fico_range_low', 'last_fico_range_high'], axis = 1)"
   ]
  },
  {
   "cell_type": "markdown",
   "metadata": {},
   "source": [
    "## Chi-square Test"
   ]
  },
  {
   "cell_type": "code",
   "execution_count": 31,
   "metadata": {},
   "outputs": [
    {
     "data": {
      "text/plain": [
       "Index(['term', 'home_ownership', 'verification_status', 'purpose'], dtype='object')"
      ]
     },
     "execution_count": 31,
     "metadata": {},
     "output_type": "execute_result"
    }
   ],
   "source": [
    "## get categorical variables\n",
    "cat_variables = loan_5.select_dtypes(include = ['object']).columns\n",
    "cat_variables"
   ]
  },
  {
   "cell_type": "code",
   "execution_count": 32,
   "metadata": {},
   "outputs": [],
   "source": [
    "## create contigency tables, calculate chi-square and p-value\n",
    "\n",
    "chi_square = {\"variable\":[],\n",
    "            \"chi-square\":[],\n",
    "              \"p-value\":[]}\n",
    "\n",
    "for var in cat_variables:\n",
    "    chi_square[\"variable\"].append(var)\n",
    "    chi_square['chi-square'].append(stats.chi2_contingency(pd.crosstab(loan_5[var], loan_5.Default))[0])\n",
    "    chi_square['p-value'].append(stats.chi2_contingency(pd.crosstab(loan_5[var], loan_5.Default))[1])"
   ]
  },
  {
   "cell_type": "code",
   "execution_count": 33,
   "metadata": {},
   "outputs": [
    {
     "data": {
      "text/html": [
       "<div>\n",
       "<style scoped>\n",
       "    .dataframe tbody tr th:only-of-type {\n",
       "        vertical-align: middle;\n",
       "    }\n",
       "\n",
       "    .dataframe tbody tr th {\n",
       "        vertical-align: top;\n",
       "    }\n",
       "\n",
       "    .dataframe thead th {\n",
       "        text-align: right;\n",
       "    }\n",
       "</style>\n",
       "<table border=\"1\" class=\"dataframe\">\n",
       "  <thead>\n",
       "    <tr style=\"text-align: right;\">\n",
       "      <th></th>\n",
       "      <th>variable</th>\n",
       "      <th>chi-square</th>\n",
       "      <th>p-value</th>\n",
       "    </tr>\n",
       "  </thead>\n",
       "  <tbody>\n",
       "    <tr>\n",
       "      <td>0</td>\n",
       "      <td>term</td>\n",
       "      <td>309.40408</td>\n",
       "      <td>0.00000</td>\n",
       "    </tr>\n",
       "    <tr>\n",
       "      <td>1</td>\n",
       "      <td>home_ownership</td>\n",
       "      <td>87.47949</td>\n",
       "      <td>0.00000</td>\n",
       "    </tr>\n",
       "    <tr>\n",
       "      <td>2</td>\n",
       "      <td>verification_status</td>\n",
       "      <td>280.29308</td>\n",
       "      <td>0.00000</td>\n",
       "    </tr>\n",
       "    <tr>\n",
       "      <td>3</td>\n",
       "      <td>purpose</td>\n",
       "      <td>140.01757</td>\n",
       "      <td>0.00000</td>\n",
       "    </tr>\n",
       "  </tbody>\n",
       "</table>\n",
       "</div>"
      ],
      "text/plain": [
       "              variable  chi-square  p-value\n",
       "0                 term   309.40408  0.00000\n",
       "1       home_ownership    87.47949  0.00000\n",
       "2  verification_status   280.29308  0.00000\n",
       "3              purpose   140.01757  0.00000"
      ]
     },
     "execution_count": 33,
     "metadata": {},
     "output_type": "execute_result"
    }
   ],
   "source": [
    "chi_square_df = pd.DataFrame(chi_square)\n",
    "chi_square_df"
   ]
  },
  {
   "cell_type": "markdown",
   "metadata": {},
   "source": [
    "All of these categorical variables are dependent on the response variable -- based on the high chi-square values and low p-value. I'll include all of them in the modeling part."
   ]
  },
  {
   "cell_type": "markdown",
   "metadata": {},
   "source": [
    "# Predictive Modeling"
   ]
  },
  {
   "cell_type": "markdown",
   "metadata": {},
   "source": [
    "## One-hot Encoding"
   ]
  },
  {
   "cell_type": "markdown",
   "metadata": {},
   "source": [
    "A one-hot encoding is a representation of categorical variables as binary vectors."
   ]
  },
  {
   "cell_type": "code",
   "execution_count": 34,
   "metadata": {},
   "outputs": [
    {
     "name": "stdout",
     "output_type": "stream",
     "text": [
      "(75127, 28)\n"
     ]
    },
    {
     "data": {
      "text/html": [
       "<div>\n",
       "<style scoped>\n",
       "    .dataframe tbody tr th:only-of-type {\n",
       "        vertical-align: middle;\n",
       "    }\n",
       "\n",
       "    .dataframe tbody tr th {\n",
       "        vertical-align: top;\n",
       "    }\n",
       "\n",
       "    .dataframe thead th {\n",
       "        text-align: right;\n",
       "    }\n",
       "</style>\n",
       "<table border=\"1\" class=\"dataframe\">\n",
       "  <thead>\n",
       "    <tr style=\"text-align: right;\">\n",
       "      <th></th>\n",
       "      <th>loan_amnt</th>\n",
       "      <th>emp_length</th>\n",
       "      <th>annual_inc</th>\n",
       "      <th>dti</th>\n",
       "      <th>fico_range_high</th>\n",
       "      <th>acc_now_delinq</th>\n",
       "      <th>delinq_amnt</th>\n",
       "      <th>delinq_2yrs</th>\n",
       "      <th>inq_last_6mths</th>\n",
       "      <th>Default</th>\n",
       "      <th>term_60 months</th>\n",
       "      <th>home_ownership_MORTGAGE</th>\n",
       "      <th>home_ownership_OWN</th>\n",
       "      <th>home_ownership_RENT</th>\n",
       "      <th>verification_status_Source Verified</th>\n",
       "      <th>verification_status_Verified</th>\n",
       "      <th>purpose_credit_card</th>\n",
       "      <th>purpose_debt_consolidation</th>\n",
       "      <th>purpose_home_improvement</th>\n",
       "      <th>purpose_house</th>\n",
       "      <th>purpose_major_purchase</th>\n",
       "      <th>purpose_medical</th>\n",
       "      <th>purpose_moving</th>\n",
       "      <th>purpose_other</th>\n",
       "      <th>purpose_renewable_energy</th>\n",
       "      <th>purpose_small_business</th>\n",
       "      <th>purpose_vacation</th>\n",
       "      <th>purpose_wedding</th>\n",
       "    </tr>\n",
       "  </thead>\n",
       "  <tbody>\n",
       "    <tr>\n",
       "      <td>0</td>\n",
       "      <td>30000</td>\n",
       "      <td>6.00000</td>\n",
       "      <td>100100.00000</td>\n",
       "      <td>27.42000</td>\n",
       "      <td>694</td>\n",
       "      <td>0</td>\n",
       "      <td>0</td>\n",
       "      <td>0</td>\n",
       "      <td>0</td>\n",
       "      <td>0</td>\n",
       "      <td>1</td>\n",
       "      <td>0</td>\n",
       "      <td>0</td>\n",
       "      <td>1</td>\n",
       "      <td>0</td>\n",
       "      <td>1</td>\n",
       "      <td>0</td>\n",
       "      <td>1</td>\n",
       "      <td>0</td>\n",
       "      <td>0</td>\n",
       "      <td>0</td>\n",
       "      <td>0</td>\n",
       "      <td>0</td>\n",
       "      <td>0</td>\n",
       "      <td>0</td>\n",
       "      <td>0</td>\n",
       "      <td>0</td>\n",
       "      <td>0</td>\n",
       "    </tr>\n",
       "    <tr>\n",
       "      <td>1</td>\n",
       "      <td>30000</td>\n",
       "      <td>10.00000</td>\n",
       "      <td>235000.00000</td>\n",
       "      <td>7.50000</td>\n",
       "      <td>674</td>\n",
       "      <td>0</td>\n",
       "      <td>0</td>\n",
       "      <td>1</td>\n",
       "      <td>1</td>\n",
       "      <td>0</td>\n",
       "      <td>1</td>\n",
       "      <td>1</td>\n",
       "      <td>0</td>\n",
       "      <td>0</td>\n",
       "      <td>1</td>\n",
       "      <td>0</td>\n",
       "      <td>0</td>\n",
       "      <td>0</td>\n",
       "      <td>1</td>\n",
       "      <td>0</td>\n",
       "      <td>0</td>\n",
       "      <td>0</td>\n",
       "      <td>0</td>\n",
       "      <td>0</td>\n",
       "      <td>0</td>\n",
       "      <td>0</td>\n",
       "      <td>0</td>\n",
       "      <td>0</td>\n",
       "    </tr>\n",
       "    <tr>\n",
       "      <td>2</td>\n",
       "      <td>16000</td>\n",
       "      <td>6.00000</td>\n",
       "      <td>84000.00000</td>\n",
       "      <td>27.87000</td>\n",
       "      <td>739</td>\n",
       "      <td>0</td>\n",
       "      <td>0</td>\n",
       "      <td>0</td>\n",
       "      <td>0</td>\n",
       "      <td>0</td>\n",
       "      <td>1</td>\n",
       "      <td>0</td>\n",
       "      <td>0</td>\n",
       "      <td>1</td>\n",
       "      <td>0</td>\n",
       "      <td>0</td>\n",
       "      <td>0</td>\n",
       "      <td>1</td>\n",
       "      <td>0</td>\n",
       "      <td>0</td>\n",
       "      <td>0</td>\n",
       "      <td>0</td>\n",
       "      <td>0</td>\n",
       "      <td>0</td>\n",
       "      <td>0</td>\n",
       "      <td>0</td>\n",
       "      <td>0</td>\n",
       "      <td>0</td>\n",
       "    </tr>\n",
       "    <tr>\n",
       "      <td>3</td>\n",
       "      <td>14000</td>\n",
       "      <td>5.00000</td>\n",
       "      <td>50000.00000</td>\n",
       "      <td>21.65000</td>\n",
       "      <td>729</td>\n",
       "      <td>0</td>\n",
       "      <td>0</td>\n",
       "      <td>0</td>\n",
       "      <td>0</td>\n",
       "      <td>0</td>\n",
       "      <td>0</td>\n",
       "      <td>0</td>\n",
       "      <td>0</td>\n",
       "      <td>1</td>\n",
       "      <td>1</td>\n",
       "      <td>0</td>\n",
       "      <td>0</td>\n",
       "      <td>1</td>\n",
       "      <td>0</td>\n",
       "      <td>0</td>\n",
       "      <td>0</td>\n",
       "      <td>0</td>\n",
       "      <td>0</td>\n",
       "      <td>0</td>\n",
       "      <td>0</td>\n",
       "      <td>0</td>\n",
       "      <td>0</td>\n",
       "      <td>0</td>\n",
       "    </tr>\n",
       "    <tr>\n",
       "      <td>4</td>\n",
       "      <td>7500</td>\n",
       "      <td>3.00000</td>\n",
       "      <td>68000.00000</td>\n",
       "      <td>29.09000</td>\n",
       "      <td>664</td>\n",
       "      <td>0</td>\n",
       "      <td>0</td>\n",
       "      <td>0</td>\n",
       "      <td>2</td>\n",
       "      <td>0</td>\n",
       "      <td>0</td>\n",
       "      <td>1</td>\n",
       "      <td>0</td>\n",
       "      <td>0</td>\n",
       "      <td>0</td>\n",
       "      <td>0</td>\n",
       "      <td>0</td>\n",
       "      <td>1</td>\n",
       "      <td>0</td>\n",
       "      <td>0</td>\n",
       "      <td>0</td>\n",
       "      <td>0</td>\n",
       "      <td>0</td>\n",
       "      <td>0</td>\n",
       "      <td>0</td>\n",
       "      <td>0</td>\n",
       "      <td>0</td>\n",
       "      <td>0</td>\n",
       "    </tr>\n",
       "  </tbody>\n",
       "</table>\n",
       "</div>"
      ],
      "text/plain": [
       "   loan_amnt  emp_length   annual_inc      dti  fico_range_high  \\\n",
       "0      30000     6.00000 100100.00000 27.42000              694   \n",
       "1      30000    10.00000 235000.00000  7.50000              674   \n",
       "2      16000     6.00000  84000.00000 27.87000              739   \n",
       "3      14000     5.00000  50000.00000 21.65000              729   \n",
       "4       7500     3.00000  68000.00000 29.09000              664   \n",
       "\n",
       "   acc_now_delinq  delinq_amnt  delinq_2yrs  inq_last_6mths Default  \\\n",
       "0               0            0            0               0       0   \n",
       "1               0            0            1               1       0   \n",
       "2               0            0            0               0       0   \n",
       "3               0            0            0               0       0   \n",
       "4               0            0            0               2       0   \n",
       "\n",
       "   term_60 months  home_ownership_MORTGAGE  home_ownership_OWN  \\\n",
       "0               1                        0                   0   \n",
       "1               1                        1                   0   \n",
       "2               1                        0                   0   \n",
       "3               0                        0                   0   \n",
       "4               0                        1                   0   \n",
       "\n",
       "   home_ownership_RENT  verification_status_Source Verified  \\\n",
       "0                    1                                    0   \n",
       "1                    0                                    1   \n",
       "2                    1                                    0   \n",
       "3                    1                                    1   \n",
       "4                    0                                    0   \n",
       "\n",
       "   verification_status_Verified  purpose_credit_card  \\\n",
       "0                             1                    0   \n",
       "1                             0                    0   \n",
       "2                             0                    0   \n",
       "3                             0                    0   \n",
       "4                             0                    0   \n",
       "\n",
       "   purpose_debt_consolidation  purpose_home_improvement  purpose_house  \\\n",
       "0                           1                         0              0   \n",
       "1                           0                         1              0   \n",
       "2                           1                         0              0   \n",
       "3                           1                         0              0   \n",
       "4                           1                         0              0   \n",
       "\n",
       "   purpose_major_purchase  purpose_medical  purpose_moving  purpose_other  \\\n",
       "0                       0                0               0              0   \n",
       "1                       0                0               0              0   \n",
       "2                       0                0               0              0   \n",
       "3                       0                0               0              0   \n",
       "4                       0                0               0              0   \n",
       "\n",
       "   purpose_renewable_energy  purpose_small_business  purpose_vacation  \\\n",
       "0                         0                       0                 0   \n",
       "1                         0                       0                 0   \n",
       "2                         0                       0                 0   \n",
       "3                         0                       0                 0   \n",
       "4                         0                       0                 0   \n",
       "\n",
       "   purpose_wedding  \n",
       "0                0  \n",
       "1                0  \n",
       "2                0  \n",
       "3                0  \n",
       "4                0  "
      ]
     },
     "execution_count": 34,
     "metadata": {},
     "output_type": "execute_result"
    }
   ],
   "source": [
    "dummy_df = pd.get_dummies(loan_5[cat_variables], drop_first = True)\n",
    "loan_6 = pd.concat([loan_5, dummy_df], axis = 1)\n",
    "loan_6 = loan_6.drop(cat_variables, axis = 1)\n",
    "print(loan_6.shape)\n",
    "loan_6.head()"
   ]
  },
  {
   "cell_type": "code",
   "execution_count": 35,
   "metadata": {},
   "outputs": [
    {
     "data": {
      "text/plain": [
       "loan_amnt                              0\n",
       "emp_length                             0\n",
       "annual_inc                             0\n",
       "dti                                    0\n",
       "fico_range_high                        0\n",
       "acc_now_delinq                         0\n",
       "delinq_amnt                            0\n",
       "delinq_2yrs                            0\n",
       "inq_last_6mths                         0\n",
       "Default                                0\n",
       "term_60 months                         0\n",
       "home_ownership_MORTGAGE                0\n",
       "home_ownership_OWN                     0\n",
       "home_ownership_RENT                    0\n",
       "verification_status_Source Verified    0\n",
       "verification_status_Verified           0\n",
       "purpose_credit_card                    0\n",
       "purpose_debt_consolidation             0\n",
       "purpose_home_improvement               0\n",
       "purpose_house                          0\n",
       "purpose_major_purchase                 0\n",
       "purpose_medical                        0\n",
       "purpose_moving                         0\n",
       "purpose_other                          0\n",
       "purpose_renewable_energy               0\n",
       "purpose_small_business                 0\n",
       "purpose_vacation                       0\n",
       "purpose_wedding                        0\n",
       "dtype: int64"
      ]
     },
     "execution_count": 35,
     "metadata": {},
     "output_type": "execute_result"
    }
   ],
   "source": [
    "loan_6.isnull().sum()"
   ]
  },
  {
   "cell_type": "markdown",
   "metadata": {},
   "source": [
    "## Data Partition"
   ]
  },
  {
   "cell_type": "code",
   "execution_count": 36,
   "metadata": {},
   "outputs": [
    {
     "name": "stdout",
     "output_type": "stream",
     "text": [
      "(60101, 27)\n",
      "(15026, 27)\n"
     ]
    }
   ],
   "source": [
    "## 70%-30% Train-Test random split\n",
    "X = loan_6.drop('Default', axis = 1)\n",
    "y = loan_6['Default']\n",
    "\n",
    "X_train, X_test, y_train, y_test = train_test_split(X, y, test_size = 0.20, random_state = 48)\n",
    "\n",
    "print(X_train.shape)\n",
    "print(X_test.shape)"
   ]
  },
  {
   "cell_type": "code",
   "execution_count": 37,
   "metadata": {},
   "outputs": [
    {
     "data": {
      "text/plain": [
       "0    55577\n",
       "1     4524\n",
       "Name: Default, dtype: int64"
      ]
     },
     "execution_count": 37,
     "metadata": {},
     "output_type": "execute_result"
    }
   ],
   "source": [
    "y_train.value_counts()"
   ]
  },
  {
   "cell_type": "code",
   "execution_count": 38,
   "metadata": {},
   "outputs": [
    {
     "data": {
      "text/plain": [
       "0    69506\n",
       "1     5621\n",
       "Name: Default, dtype: int64"
      ]
     },
     "execution_count": 38,
     "metadata": {},
     "output_type": "execute_result"
    }
   ],
   "source": [
    "y.value_counts()"
   ]
  },
  {
   "cell_type": "markdown",
   "metadata": {},
   "source": [
    "## Class Imbalanced"
   ]
  },
  {
   "cell_type": "markdown",
   "metadata": {},
   "source": [
    "As I previously mentioned, this is a class imbalanced dataset. \n",
    "\n",
    "I will use **Random Under Sampling** method which basically consists of removing data in order to have amore balanced dataset and thus avoiding our models to overfitting."
   ]
  },
  {
   "cell_type": "code",
   "execution_count": 39,
   "metadata": {},
   "outputs": [],
   "source": [
    "train_df = pd.concat([X_train, pd.DataFrame(y_train)], axis = 1)\n",
    "train_df_1 = train_df[train_df['Default'] == 1]\n",
    "train_df_0 = train_df[train_df['Default'] == 0]\n",
    "train_df_0 = train_df_0.sample(n = 4524)"
   ]
  },
  {
   "cell_type": "code",
   "execution_count": 40,
   "metadata": {},
   "outputs": [
    {
     "data": {
      "text/plain": [
       "(9048, 28)"
      ]
     },
     "execution_count": 40,
     "metadata": {},
     "output_type": "execute_result"
    }
   ],
   "source": [
    "train_df = pd.concat([train_df_0, train_df_1])\n",
    "train_df.shape"
   ]
  },
  {
   "cell_type": "code",
   "execution_count": 41,
   "metadata": {},
   "outputs": [],
   "source": [
    "X_train = train_df.drop(\"Default\", axis = 1)\n",
    "y_train = train_df.Default"
   ]
  },
  {
   "cell_type": "code",
   "execution_count": 42,
   "metadata": {},
   "outputs": [
    {
     "data": {
      "text/plain": [
       "1    4524\n",
       "0    4524\n",
       "Name: Default, dtype: int64"
      ]
     },
     "execution_count": 42,
     "metadata": {},
     "output_type": "execute_result"
    }
   ],
   "source": [
    "y_train.value_counts()"
   ]
  },
  {
   "cell_type": "markdown",
   "metadata": {},
   "source": [
    "Our response variable is balanced right now."
   ]
  },
  {
   "cell_type": "markdown",
   "metadata": {},
   "source": [
    "## Model Construction"
   ]
  },
  {
   "cell_type": "markdown",
   "metadata": {},
   "source": [
    "### Logistic Regression"
   ]
  },
  {
   "cell_type": "code",
   "execution_count": 43,
   "metadata": {},
   "outputs": [],
   "source": [
    "LR = LogisticRegression()\n",
    "LR.fit(X_train, y_train)\n",
    "y_predLR = LR.predict(X_test)"
   ]
  },
  {
   "cell_type": "code",
   "execution_count": 44,
   "metadata": {},
   "outputs": [],
   "source": [
    "#print(\"The weights of the attributes are:\", LR.coef_)"
   ]
  },
  {
   "cell_type": "code",
   "execution_count": 45,
   "metadata": {},
   "outputs": [],
   "source": [
    "# generate a report for model including accraucy, precision, recall and F1\n",
    "def get_all_measurements(y_test, y_pred, model_name):\n",
    "    column_names = ['Accuracy', 'Precision', 'Recall', 'F1-Score', 'AUC']\n",
    "    acc = accuracy_score(y_test, y_pred)\n",
    "    cm = confusion_matrix(y_test, y_pred)\n",
    "    tn, fp, fn, tp = cm.ravel()\n",
    "    precision = tp / (tp + fp)\n",
    "    fpr, tpr, thresholds = roc_curve(y_test, y_pred)\n",
    "    Auc = auc(fpr,tpr)\n",
    "    recall = tp / (tp + fn)\n",
    "    f1 = (2 * precision * recall) / (precision + recall)\n",
    "    values = np.array([[acc, precision, recall, f1, Auc]])\n",
    "    summary = pd.DataFrame(values, index=[model_name], columns=column_names)\n",
    "    return summary"
   ]
  },
  {
   "cell_type": "code",
   "execution_count": 46,
   "metadata": {},
   "outputs": [
    {
     "name": "stdout",
     "output_type": "stream",
     "text": [
      "              precision    recall  f1-score   support\n",
      "\n",
      "           0       0.94      0.58      0.72     13929\n",
      "           1       0.09      0.55      0.16      1097\n",
      "\n",
      "    accuracy                           0.57     15026\n",
      "   macro avg       0.52      0.56      0.44     15026\n",
      "weighted avg       0.88      0.57      0.67     15026\n",
      "\n"
     ]
    },
    {
     "data": {
      "text/html": [
       "<div>\n",
       "<style scoped>\n",
       "    .dataframe tbody tr th:only-of-type {\n",
       "        vertical-align: middle;\n",
       "    }\n",
       "\n",
       "    .dataframe tbody tr th {\n",
       "        vertical-align: top;\n",
       "    }\n",
       "\n",
       "    .dataframe thead th {\n",
       "        text-align: right;\n",
       "    }\n",
       "</style>\n",
       "<table border=\"1\" class=\"dataframe\">\n",
       "  <thead>\n",
       "    <tr style=\"text-align: right;\">\n",
       "      <th></th>\n",
       "      <th>Accuracy</th>\n",
       "      <th>Precision</th>\n",
       "      <th>Recall</th>\n",
       "      <th>F1-Score</th>\n",
       "      <th>AUC</th>\n",
       "    </tr>\n",
       "  </thead>\n",
       "  <tbody>\n",
       "    <tr>\n",
       "      <td>Logistic Regression</td>\n",
       "      <td>0.57440</td>\n",
       "      <td>0.09259</td>\n",
       "      <td>0.54877</td>\n",
       "      <td>0.15844</td>\n",
       "      <td>0.56260</td>\n",
       "    </tr>\n",
       "  </tbody>\n",
       "</table>\n",
       "</div>"
      ],
      "text/plain": [
       "                     Accuracy  Precision  Recall  F1-Score     AUC\n",
       "Logistic Regression   0.57440    0.09259 0.54877   0.15844 0.56260"
      ]
     },
     "execution_count": 46,
     "metadata": {},
     "output_type": "execute_result"
    }
   ],
   "source": [
    "print(classification_report(y_test, y_predLR))\n",
    "\n",
    "LR_summary = get_all_measurements(y_test, y_predLR, 'Logistic Regression')\n",
    "LR_summary"
   ]
  },
  {
   "cell_type": "markdown",
   "metadata": {},
   "source": [
    "### Naive Bayes"
   ]
  },
  {
   "cell_type": "code",
   "execution_count": 62,
   "metadata": {},
   "outputs": [],
   "source": [
    "NB = GaussianNB()\n",
    "NB = NB.fit(X_train, y_train)\n",
    "\n",
    "y_predNB = NB.predict(X_test)"
   ]
  },
  {
   "cell_type": "code",
   "execution_count": 63,
   "metadata": {},
   "outputs": [
    {
     "name": "stdout",
     "output_type": "stream",
     "text": [
      "              precision    recall  f1-score   support\n",
      "\n",
      "           0       0.93      0.97      0.95     13929\n",
      "           1       0.07      0.03      0.04      1097\n",
      "\n",
      "    accuracy                           0.90     15026\n",
      "   macro avg       0.50      0.50      0.50     15026\n",
      "weighted avg       0.86      0.90      0.88     15026\n",
      "\n"
     ]
    },
    {
     "data": {
      "text/html": [
       "<div>\n",
       "<style scoped>\n",
       "    .dataframe tbody tr th:only-of-type {\n",
       "        vertical-align: middle;\n",
       "    }\n",
       "\n",
       "    .dataframe tbody tr th {\n",
       "        vertical-align: top;\n",
       "    }\n",
       "\n",
       "    .dataframe thead th {\n",
       "        text-align: right;\n",
       "    }\n",
       "</style>\n",
       "<table border=\"1\" class=\"dataframe\">\n",
       "  <thead>\n",
       "    <tr style=\"text-align: right;\">\n",
       "      <th></th>\n",
       "      <th>Accuracy</th>\n",
       "      <th>Precision</th>\n",
       "      <th>Recall</th>\n",
       "      <th>F1-Score</th>\n",
       "      <th>AUC</th>\n",
       "    </tr>\n",
       "  </thead>\n",
       "  <tbody>\n",
       "    <tr>\n",
       "      <td>Naive Bayes</td>\n",
       "      <td>0.89738</td>\n",
       "      <td>0.06963</td>\n",
       "      <td>0.03282</td>\n",
       "      <td>0.04461</td>\n",
       "      <td>0.49914</td>\n",
       "    </tr>\n",
       "  </tbody>\n",
       "</table>\n",
       "</div>"
      ],
      "text/plain": [
       "             Accuracy  Precision  Recall  F1-Score     AUC\n",
       "Naive Bayes   0.89738    0.06963 0.03282   0.04461 0.49914"
      ]
     },
     "execution_count": 63,
     "metadata": {},
     "output_type": "execute_result"
    }
   ],
   "source": [
    "print(classification_report(y_test, y_predNB))\n",
    "\n",
    "NB_summary = get_all_measurements(y_test, y_predNB, 'Naive Bayes')\n",
    "NB_summary"
   ]
  },
  {
   "cell_type": "markdown",
   "metadata": {},
   "source": [
    "### Decision Tree"
   ]
  },
  {
   "cell_type": "code",
   "execution_count": 50,
   "metadata": {},
   "outputs": [
    {
     "name": "stdout",
     "output_type": "stream",
     "text": [
      "              precision    recall  f1-score   support\n",
      "\n",
      "           0       0.94      0.54      0.68     13929\n",
      "           1       0.08      0.54      0.15      1097\n",
      "\n",
      "    accuracy                           0.54     15026\n",
      "   macro avg       0.51      0.54      0.41     15026\n",
      "weighted avg       0.87      0.54      0.64     15026\n",
      "\n"
     ]
    },
    {
     "data": {
      "text/html": [
       "<div>\n",
       "<style scoped>\n",
       "    .dataframe tbody tr th:only-of-type {\n",
       "        vertical-align: middle;\n",
       "    }\n",
       "\n",
       "    .dataframe tbody tr th {\n",
       "        vertical-align: top;\n",
       "    }\n",
       "\n",
       "    .dataframe thead th {\n",
       "        text-align: right;\n",
       "    }\n",
       "</style>\n",
       "<table border=\"1\" class=\"dataframe\">\n",
       "  <thead>\n",
       "    <tr style=\"text-align: right;\">\n",
       "      <th></th>\n",
       "      <th>Accuracy</th>\n",
       "      <th>Precision</th>\n",
       "      <th>Recall</th>\n",
       "      <th>F1-Score</th>\n",
       "      <th>AUC</th>\n",
       "    </tr>\n",
       "  </thead>\n",
       "  <tbody>\n",
       "    <tr>\n",
       "      <td>Decision Tree</td>\n",
       "      <td>0.53793</td>\n",
       "      <td>0.08397</td>\n",
       "      <td>0.53783</td>\n",
       "      <td>0.14527</td>\n",
       "      <td>0.53789</td>\n",
       "    </tr>\n",
       "  </tbody>\n",
       "</table>\n",
       "</div>"
      ],
      "text/plain": [
       "               Accuracy  Precision  Recall  F1-Score     AUC\n",
       "Decision Tree   0.53793    0.08397 0.53783   0.14527 0.53789"
      ]
     },
     "execution_count": 50,
     "metadata": {},
     "output_type": "execute_result"
    }
   ],
   "source": [
    "DT = DecisionTreeClassifier()\n",
    "DT = DT.fit(X_train, y_train)\n",
    "\n",
    "y_predDT = DT.predict(X_test)\n",
    "\n",
    "print(classification_report(y_test, y_predDT))\n",
    "\n",
    "DT_summary = get_all_measurements(y_test, y_predDT, 'Decision Tree')\n",
    "DT_summary"
   ]
  },
  {
   "cell_type": "markdown",
   "metadata": {},
   "source": [
    "### Random Forest"
   ]
  },
  {
   "cell_type": "code",
   "execution_count": 51,
   "metadata": {},
   "outputs": [
    {
     "name": "stdout",
     "output_type": "stream",
     "text": [
      "              precision    recall  f1-score   support\n",
      "\n",
      "           0       0.95      0.62      0.75     13929\n",
      "           1       0.10      0.55      0.17      1097\n",
      "\n",
      "    accuracy                           0.61     15026\n",
      "   macro avg       0.52      0.58      0.46     15026\n",
      "weighted avg       0.88      0.61      0.71     15026\n",
      "\n"
     ]
    },
    {
     "data": {
      "text/html": [
       "<div>\n",
       "<style scoped>\n",
       "    .dataframe tbody tr th:only-of-type {\n",
       "        vertical-align: middle;\n",
       "    }\n",
       "\n",
       "    .dataframe tbody tr th {\n",
       "        vertical-align: top;\n",
       "    }\n",
       "\n",
       "    .dataframe thead th {\n",
       "        text-align: right;\n",
       "    }\n",
       "</style>\n",
       "<table border=\"1\" class=\"dataframe\">\n",
       "  <thead>\n",
       "    <tr style=\"text-align: right;\">\n",
       "      <th></th>\n",
       "      <th>Accuracy</th>\n",
       "      <th>Precision</th>\n",
       "      <th>Recall</th>\n",
       "      <th>F1-Score</th>\n",
       "      <th>AUC</th>\n",
       "    </tr>\n",
       "  </thead>\n",
       "  <tbody>\n",
       "    <tr>\n",
       "      <td>Random Forest</td>\n",
       "      <td>0.61467</td>\n",
       "      <td>0.10182</td>\n",
       "      <td>0.54695</td>\n",
       "      <td>0.17167</td>\n",
       "      <td>0.58347</td>\n",
       "    </tr>\n",
       "  </tbody>\n",
       "</table>\n",
       "</div>"
      ],
      "text/plain": [
       "               Accuracy  Precision  Recall  F1-Score     AUC\n",
       "Random Forest   0.61467    0.10182 0.54695   0.17167 0.58347"
      ]
     },
     "execution_count": 51,
     "metadata": {},
     "output_type": "execute_result"
    }
   ],
   "source": [
    "RF = RandomForestClassifier(n_estimators=20, criterion = 'entropy', random_state = 0)\n",
    "RF = RF.fit(X_train, y_train)\n",
    "\n",
    "y_predRF = RF.predict(X_test)\n",
    "\n",
    "print(classification_report(y_test, y_predRF))\n",
    "\n",
    "RF_summary = get_all_measurements(y_test, y_predRF, \"Random Forest\")\n",
    "RF_summary"
   ]
  },
  {
   "cell_type": "markdown",
   "metadata": {},
   "source": [
    "#### Hyperparameter Tuning\n",
    "\n",
    "I will use GridSearch to tune hyperparameters."
   ]
  },
  {
   "cell_type": "code",
   "execution_count": 55,
   "metadata": {},
   "outputs": [
    {
     "name": "stdout",
     "output_type": "stream",
     "text": [
      "Fitting 3 folds for each of 500 candidates, totalling 1500 fits\n"
     ]
    },
    {
     "name": "stderr",
     "output_type": "stream",
     "text": [
      "[Parallel(n_jobs=-1)]: Using backend LokyBackend with 4 concurrent workers.\n",
      "[Parallel(n_jobs=-1)]: Done  42 tasks      | elapsed:   12.9s\n",
      "[Parallel(n_jobs=-1)]: Done 192 tasks      | elapsed:   48.2s\n",
      "[Parallel(n_jobs=-1)]: Done 442 tasks      | elapsed:  1.6min\n",
      "[Parallel(n_jobs=-1)]: Done 792 tasks      | elapsed:  3.0min\n",
      "[Parallel(n_jobs=-1)]: Done 1242 tasks      | elapsed:  6.0min\n",
      "[Parallel(n_jobs=-1)]: Done 1500 out of 1500 | elapsed:  7.4min finished\n"
     ]
    }
   ],
   "source": [
    "forest = RandomForestClassifier(random_state = 0)\n",
    "\n",
    "n_estimators = [30, 60, 100, 150, 200]\n",
    "max_depth = [5, 7, 10, 15, 20]\n",
    "min_samples_split = [2, 5, 10, 15, 50]\n",
    "min_samples_leaf = [1, 2, 5, 10] \n",
    "\n",
    "hyperF = dict(n_estimators = n_estimators, max_depth = max_depth,  \n",
    "              min_samples_split = min_samples_split, \n",
    "             min_samples_leaf = min_samples_leaf)\n",
    "\n",
    "gridF = GridSearchCV(forest, hyperF, cv = 3, verbose = 1, \n",
    "                      n_jobs = -1)\n",
    "bestF = gridF.fit(X_train, y_train)"
   ]
  },
  {
   "cell_type": "code",
   "execution_count": 56,
   "metadata": {},
   "outputs": [
    {
     "name": "stdout",
     "output_type": "stream",
     "text": [
      "0.6185897435897436\n",
      "{'max_depth': 10, 'min_samples_leaf': 1, 'min_samples_split': 50, 'n_estimators': 200}\n"
     ]
    }
   ],
   "source": [
    "print(bestF.best_score_)\n",
    "print(bestF.best_params_)"
   ]
  },
  {
   "cell_type": "code",
   "execution_count": 57,
   "metadata": {},
   "outputs": [],
   "source": [
    "forestOpt = RandomForestClassifier(random_state = 0, max_depth = 20,     \n",
    "                                   n_estimators = 100, min_samples_split = 2, min_samples_leaf = 1)\n",
    "                                   \n",
    "modelOpt = forestOpt.fit(X_train, y_train)\n",
    "y_pred = modelOpt.predict(X_test)"
   ]
  },
  {
   "cell_type": "code",
   "execution_count": 58,
   "metadata": {},
   "outputs": [
    {
     "name": "stdout",
     "output_type": "stream",
     "text": [
      "              precision    recall  f1-score   support\n",
      "\n",
      "           0       0.95      0.58      0.72     13929\n",
      "           1       0.10      0.62      0.18      1097\n",
      "\n",
      "    accuracy                           0.58     15026\n",
      "   macro avg       0.53      0.60      0.45     15026\n",
      "weighted avg       0.89      0.58      0.68     15026\n",
      "\n"
     ]
    },
    {
     "data": {
      "text/html": [
       "<div>\n",
       "<style scoped>\n",
       "    .dataframe tbody tr th:only-of-type {\n",
       "        vertical-align: middle;\n",
       "    }\n",
       "\n",
       "    .dataframe tbody tr th {\n",
       "        vertical-align: top;\n",
       "    }\n",
       "\n",
       "    .dataframe thead th {\n",
       "        text-align: right;\n",
       "    }\n",
       "</style>\n",
       "<table border=\"1\" class=\"dataframe\">\n",
       "  <thead>\n",
       "    <tr style=\"text-align: right;\">\n",
       "      <th></th>\n",
       "      <th>Accuracy</th>\n",
       "      <th>Precision</th>\n",
       "      <th>Recall</th>\n",
       "      <th>F1-Score</th>\n",
       "      <th>AUC</th>\n",
       "    </tr>\n",
       "  </thead>\n",
       "  <tbody>\n",
       "    <tr>\n",
       "      <td>Random Forest After Tunning</td>\n",
       "      <td>0.58405</td>\n",
       "      <td>0.10404</td>\n",
       "      <td>0.61714</td>\n",
       "      <td>0.17806</td>\n",
       "      <td>0.59929</td>\n",
       "    </tr>\n",
       "  </tbody>\n",
       "</table>\n",
       "</div>"
      ],
      "text/plain": [
       "                             Accuracy  Precision  Recall  F1-Score     AUC\n",
       "Random Forest After Tunning   0.58405    0.10404 0.61714   0.17806 0.59929"
      ]
     },
     "execution_count": 58,
     "metadata": {},
     "output_type": "execute_result"
    }
   ],
   "source": [
    "print(classification_report(y_test, y_pred))\n",
    "\n",
    "RFT_summary = get_all_measurements(y_test, y_pred, \"Random Forest After Tunning\")\n",
    "RFT_summary"
   ]
  },
  {
   "cell_type": "markdown",
   "metadata": {},
   "source": [
    "#### Feature Importance"
   ]
  },
  {
   "cell_type": "code",
   "execution_count": 60,
   "metadata": {},
   "outputs": [
    {
     "data": {
      "image/png": "[encoded data removed]",
      "text/plain": [
       "<Figure size 1080x720 with 1 Axes>"
      ]
     },
     "metadata": {},
     "output_type": "display_data"
    }
   ],
   "source": [
    "feature_names = X.columns.tolist()\n",
    "feature_names = np.array(feature_names)\n",
    "\n",
    "# get the feature importance\n",
    "feature_importances = forestOpt.feature_importances_\n",
    "\n",
    "# y=x.argsort() is used to sort the elements and get its index\n",
    "indices = np.argsort(feature_importances)[::-1]\n",
    "\n",
    "# get top 20 important features\n",
    "show_indices = indices[0:20]\n",
    "sns.set_style(\"whitegrid\")\n",
    "f, ax = plt.subplots(figsize=(15, 10))\n",
    "sns.barplot(x=feature_importances[show_indices], y=feature_names[show_indices], ax=ax)\n",
    "ax.set_title(\"Random Forest model feature importance top 20\", fontsize=16)\n",
    "ax.set_xlabel(\"feature importance score\", fontsize=16)\n",
    "ax.set_ylabel(\"feature name\", fontsize=16)\n",
    "plt.show()\n",
    "plt.close()"
   ]
  },
  {
   "cell_type": "markdown",
   "metadata": {},
   "source": [
    "## Model Comparison"
   ]
  },
  {
   "cell_type": "markdown",
   "metadata": {},
   "source": [
    "Below are our candidate models:\n",
    "\n",
    "1. Logistic Regression\n",
    "2. Naive Bayes\n",
    "3. Decision Tree\n",
    "4. Random Forest"
   ]
  },
  {
   "cell_type": "markdown",
   "metadata": {},
   "source": [
    "F1 Score might be a better measure to use if we need to seek a balance between Precision and Recall AND there is an uneven class distribution (large number of Actual Negatives)."
   ]
  },
  {
   "cell_type": "code",
   "execution_count": 59,
   "metadata": {},
   "outputs": [
    {
     "data": {
      "text/html": [
       "<div>\n",
       "<style scoped>\n",
       "    .dataframe tbody tr th:only-of-type {\n",
       "        vertical-align: middle;\n",
       "    }\n",
       "\n",
       "    .dataframe tbody tr th {\n",
       "        vertical-align: top;\n",
       "    }\n",
       "\n",
       "    .dataframe thead th {\n",
       "        text-align: right;\n",
       "    }\n",
       "</style>\n",
       "<table border=\"1\" class=\"dataframe\">\n",
       "  <thead>\n",
       "    <tr style=\"text-align: right;\">\n",
       "      <th></th>\n",
       "      <th>Accuracy</th>\n",
       "      <th>Precision</th>\n",
       "      <th>Recall</th>\n",
       "      <th>F1-Score</th>\n",
       "      <th>AUC</th>\n",
       "    </tr>\n",
       "  </thead>\n",
       "  <tbody>\n",
       "    <tr>\n",
       "      <td>Logistic Regression</td>\n",
       "      <td>0.57440</td>\n",
       "      <td>0.09259</td>\n",
       "      <td>0.54877</td>\n",
       "      <td>0.15844</td>\n",
       "      <td>0.56260</td>\n",
       "    </tr>\n",
       "    <tr>\n",
       "      <td>Naive Bayes</td>\n",
       "      <td>0.89738</td>\n",
       "      <td>0.06963</td>\n",
       "      <td>0.03282</td>\n",
       "      <td>0.04461</td>\n",
       "      <td>0.49914</td>\n",
       "    </tr>\n",
       "    <tr>\n",
       "      <td>Decision Tree</td>\n",
       "      <td>0.53793</td>\n",
       "      <td>0.08397</td>\n",
       "      <td>0.53783</td>\n",
       "      <td>0.14527</td>\n",
       "      <td>0.53789</td>\n",
       "    </tr>\n",
       "    <tr>\n",
       "      <td>Random Forest After Tunning</td>\n",
       "      <td>0.58405</td>\n",
       "      <td>0.10404</td>\n",
       "      <td>0.61714</td>\n",
       "      <td>0.17806</td>\n",
       "      <td>0.59929</td>\n",
       "    </tr>\n",
       "  </tbody>\n",
       "</table>\n",
       "</div>"
      ],
      "text/plain": [
       "                             Accuracy  Precision  Recall  F1-Score     AUC\n",
       "Logistic Regression           0.57440    0.09259 0.54877   0.15844 0.56260\n",
       "Naive Bayes                   0.89738    0.06963 0.03282   0.04461 0.49914\n",
       "Decision Tree                 0.53793    0.08397 0.53783   0.14527 0.53789\n",
       "Random Forest After Tunning   0.58405    0.10404 0.61714   0.17806 0.59929"
      ]
     },
     "execution_count": 59,
     "metadata": {},
     "output_type": "execute_result"
    }
   ],
   "source": [
    "# concatenate several measurement tables together\n",
    "all_measurements = [LR_summary, NB_summary, DT_summary, RFT_summary]\n",
    "all_measurements_df = pd.concat(all_measurements)\n",
    "all_measurements_df"
   ]
  },
  {
   "cell_type": "code",
   "execution_count": 70,
   "metadata": {},
   "outputs": [],
   "source": [
    "fpr_lr, tpr_lr, thresholds = roc_curve(y_test, y_predLR)\n",
    "fpr_nb, tpr_nb, thresholds = roc_curve(y_test, y_predNB)\n",
    "fpr_dt, tpr_dt, thresholds = roc_curve(y_test, y_predDT)\n",
    "fpr_rf, tpr_rf, thresholds = roc_curve(y_test, y_pred)"
   ]
  },
  {
   "cell_type": "code",
   "execution_count": 74,
   "metadata": {},
   "outputs": [
    {
     "data": {
      "image/png": "[encoded data removed]",
      "text/plain": [
       "<Figure size 864x576 with 1 Axes>"
      ]
     },
     "metadata": {},
     "output_type": "display_data"
    }
   ],
   "source": [
    "plt.figure(figsize = (12,8))\n",
    "plt.plot(fpr_lr, tpr_lr, linewidth=1, label='Logistic Regression') \n",
    "plt.plot(fpr_nb, tpr_nb, linewidth=1, label='Naive Bayes') \n",
    "plt.plot(fpr_dt, tpr_dt, linewidth=1, label='Decision Tree') \n",
    "plt.plot(fpr_rf, tpr_rf, linewidth=1, label='Random Forest')\n",
    "#plt.plot([0, 1], [0, 1],'r--')\n",
    "plt.title(\"ROC Curves\")\n",
    "plt.xlabel('False Positive Rate')\n",
    "plt.ylabel('True Positive Rate')\n",
    "plt.legend(loc = 'lower right')\n",
    "plt.show()"
   ]
  },
  {
   "cell_type": "markdown",
   "metadata": {},
   "source": [
    "In the case of imbalanced classes, the prediction accuracy metric can be misleading, as high metrics don't show prediction capacity for the minority class. In our case, *Naive Bayes* has the highest performance, but\n",
    "\n",
    "In this case, I used AUC and F1 scores to evaluate my models.\n",
    "\n",
    "AUC is more robust to imbalanced data. In our models, **Default** is defined as the **positive class** and it will have a strong impact on the AUC value.\n",
    "\n",
    "F1 score is the harmonic average of **recall** and **precision** which seeks a balance between this two metrics.\n",
    "\n",
    "**Random Forest** is the best performer among the candidate models, we can apply this model to new data to predict the default users."
   ]
  },
  {
   "cell_type": "markdown",
   "metadata": {},
   "source": [
    "# Next Steps"
   ]
  },
  {
   "cell_type": "markdown",
   "metadata": {},
   "source": [
    "## Cost Matrix"
   ]
  },
  {
   "cell_type": "markdown",
   "metadata": {},
   "source": [
    "Not all classification errors are equal. In some cases, such as cancer diagnosis problem, when a doctor needs to determine whether a patient has cancer or not. It is better to diagnose a healthy patient with cancer and follow-up with more medical tests than it is to discharge a patient that has cancer.\n",
    "\n",
    "Looking forward, we can collect more information about the cost of having False Positive cases and False Negative cases, and using a cost matrix when we train our models. \n",
    "\n",
    "* Cost Matrix: A matrix that assigns a cost to each cell in the confusion matrix."
   ]
  },
  {
   "cell_type": "markdown",
   "metadata": {},
   "source": [
    "## Other Ways to Handle Class Imbalance\n",
    "\n",
    "Previously, we tried *Random Under Sampling* which removed the majority class in order to have a more balanced dataset, however, we run the risk of losing tons of informtion from the majority class. \n",
    "\n",
    "We can also try other methods, such as **SMOTE** (Synthetic Minority Over-sampling Technique) to handle this situation.\n",
    "\n",
    "* SMOTE: an over-sampling method, which creates synthetic samples of the minority class to make the minority class equal to the majority class."
   ]
  },
  {
   "cell_type": "code",
   "execution_count": null,
   "metadata": {},
   "outputs": [],
   "source": []
  }
 ],
 "metadata": {
  "kernelspec": {
   "display_name": "Python 3",
   "language": "python",
   "name": "python3"
  },
  "language_info": {
   "codemirror_mode": {
    "name": "ipython",
    "version": 3
   },
   "file_extension": ".py",
   "mimetype": "text/x-python",
   "name": "python",
   "nbconvert_exporter": "python",
   "pygments_lexer": "ipython3",
   "version": "3.7.4"
  },
  "toc": {
   "base_numbering": 1,
   "nav_menu": {},
   "number_sections": true,
   "sideBar": true,
   "skip_h1_title": false,
   "title_cell": "Table of Contents",
   "title_sidebar": "Contents",
   "toc_cell": true,
   "toc_position": {
    "height": "calc(100% - 180px)",
    "left": "10px",
    "top": "150px",
    "width": "284.391px"
   },
   "toc_section_display": true,
   "toc_window_display": true
  }
 },
 "nbformat": 4,
 "nbformat_minor": 2
}
